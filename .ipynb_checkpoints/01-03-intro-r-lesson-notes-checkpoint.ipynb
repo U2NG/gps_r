{
 "cells": [
  {
   "cell_type": "markdown",
   "metadata": {},
   "source": [
    "### Before we Start\n",
    "#### Introductions:\n",
    "\n",
    "Check to make sure everyone has installed R and RStudio.\n",
    "Instructions here: https://ucsdlib.github.io/win2017-gps-intro-r/\n",
    "\n",
    "\n",
    "Library Upcoming classes - workshop site \n",
    "http://ucsdlib.github.io/workshops/\n",
    "\n",
    "#### Library Data Resources - \n",
    "\n",
    "\n",
    "#### talk about Etherpad:\n",
    "collaborative note taking - \n",
    "notes will be up for later review - \n",
    "volunteers to start note taking\n",
    "\n",
    "#### Etherpad:\n",
    " http://pad.software-carpentry.org/2017-gps-r\n",
    "\n",
    "\n",
    "#### Post-it notes:\n",
    "Red for help and questions\n",
    "Yellow for everything is good \n",
    "\n",
    "\n",
    "#### From instructor notes:\n",
    "Key lessons to take time on:\n",
    "Data subsetting - conceptually difficult for novices\n",
    "Functions - learners especially struggle with this\n",
    "Data structures - worth being thorough, but you can go through it quickly.\n",
    "go through examples of an R help page: help files can be intimidating at first, but knowing how to read them is tremendously useful.\n",
    "\n"
   ]
  },
  {
   "cell_type": "markdown",
   "metadata": {},
   "source": [
    "# LESSON 1: INTRO TO R and RStudio\n",
    "#### Why using RStudio is good for research:\n",
    "Code and workflow are more reproducible if we can document everything we do.  RStudio files can be saved and shared which enables replication of workflow and results.\n",
    "\n",
    "This workshop will teach you how to start this process using R and RStudio. \n",
    "we’re going to teach you some of the fundamentals of the R language as well as some best practices for organizing code for scientific projects that will make your life easier.\n",
    "We’ll be using RStudio: a free, open source R integrated development environment.\n",
    " provides a built in editor, works on all platforms (including on servers) and provides many advantages such as integration with version control and project management.\n",
    "\n",
    "#### Interacting with R\n",
    "R Studio Application overview:\n",
    "Main interface has 4 primary panes that make up the application\n",
    "\n",
    "#### Console:\n",
    "Console - is where R commands are where R code is processed.\n",
    "\n",
    "#### Source browser - Scripts or workspace code editor:\n",
    "This windows is where you can edit code lines or view data sets.\n",
    "\n",
    "#### Workspace browser - Environments/History:\n",
    "Shows your command history \n",
    "Environment \n",
    "\n",
    "#### file browser - Plots/packages, and help:\n",
    "Plots and charts are displayed here. \n",
    "Installed Packages can be loaded\n",
    "Help information is also viewed here.\n"
   ]
  },
  {
   "cell_type": "markdown",
   "metadata": {},
   "source": [
    "there are a 2 ways to interact with R\n",
    "\n",
    "* console window - you can type commands directly into the console but the problem with doing this is the commands you typed will not be saved when you close the window.  \n",
    "\n",
    "\n",
    "* Code/Script editor - It’s better to use the script or code editor, and save the script.  By doing this you can have a complete record of what you did and you can easily share or show the code with others. \n",
    "\n",
    "\n",
    "  * to use the code editor, you can copy and paste code from the code editor to the console or send the current line or selected text from the code editor to the console by using CRTL-ENTER (CMD-enter;  mac).  R will execute the command.  \n"
   ]
  },
  {
   "cell_type": "markdown",
   "metadata": {},
   "source": [
    "#### Quick List of keyboard shortcuts:\n",
    "Show:  Tools > Keyboard shortcuts help\n",
    "\t** Alt+shift+k    opt+shift+k (Mac)**\n",
    "https://support.rstudio.com/hc/en-us/articles/200711853-Keyboard-Shortcuts\n"
   ]
  },
  {
   "cell_type": "markdown",
   "metadata": {},
   "source": [
    "#### Running code from within the editor window. \n",
    "\n",
    "There are buttons, menu choices, and keyboard shortcuts. \n",
    "\n",
    "To run the current line, you can \n",
    "* 1. click on the **Run** button above the editor panel\n",
    "* 2. select **“Run Lines”** from the **“Code” menu**\n",
    "* 3. hit **Ctrl-Enter in Windows**; **Command-Enter on OS X**. (This shortcut can also be seen by hovering the mouse over the button). \n",
    "\n",
    "To **run a block of code**, select it and then **Run**. \n",
    "If you have modified a line of code within a block of code you have just run, there is no need to reselect the section and Run, you can use the **next button** along, Re-run the previous region. \n",
    "\n",
    "This will run the previous code block including the modifications you have made.\n",
    "\n",
    "**Show Re-run button**\n"
   ]
  },
  {
   "cell_type": "markdown",
   "metadata": {},
   "source": [
    "### Intro to R\n",
    "* Much of your time in R will be spent in the R interactive console. \n",
    "* This is where you will run all of your code, and can be a useful environment to try out ideas before adding them to an R script file. \n",
    "* This console in RStudio is the same as the one you would get if you typed in R in your command-line environment.\n",
    "\n",
    "We will be working primarily in the **script editor window** for this workshop.\n"
   ]
  },
  {
   "cell_type": "markdown",
   "metadata": {},
   "source": [
    "### The R syntax:\n",
    "very quickly here is an example of an R script that contains the primary R syntax.  \n",
    "\n",
    "show image in link\n",
    "\n",
    "\tReview example script:\n",
    "https://github.com/ucsdlib/intro-to-r/blob/gh-pages/challenges-images.Rmd\n",
    "\n",
    "* Point to the different parts:\n",
    "* a function\n",
    "* the assignment operator <-\n",
    "* the = is used for arguments in function calls, <- is prefered for assignments\n",
    "* the comments # and how they are used to document function and its content - explain why not what\n",
    "* the `$ operator lets you access variables within a data set. [ dataset$variable]`\n",
    "* Point to indentation and consistency in spacing to improve clarity - use spaces only, not tab and spaces.  only exception is multi line function\n"
   ]
  },
  {
   "cell_type": "markdown",
   "metadata": {},
   "source": [
    "Now that we have an idea of what a R script is composed of let’s begin with creating basic objects. "
   ]
  },
  {
   "cell_type": "markdown",
   "metadata": {},
   "source": [
    "## Using R as a calculator: Work starts here!\n",
    "The simplest thing you could do with R is do arithmetic:\n"
   ]
  },
  {
   "cell_type": "code",
   "execution_count": 1,
   "metadata": {
    "collapsed": false
   },
   "outputs": [
    {
     "data": {
      "text/html": [
       "101"
      ],
      "text/latex": [
       "101"
      ],
      "text/markdown": [
       "101"
      ],
      "text/plain": [
       "[1] 101"
      ]
     },
     "metadata": {},
     "output_type": "display_data"
    }
   ],
   "source": [
    "1+100"
   ]
  },
  {
   "cell_type": "markdown",
   "metadata": {},
   "source": [
    "And R will print out the answer, with a preceding “[1]”. \n",
    "\n",
    "Don’t worry about this for now, we’ll explain that later. For now think of it as indicating output.\n",
    "\n",
    "if you type in an incomplete command, R will wait for you to complete it:\n"
   ]
  },
  {
   "cell_type": "code",
   "execution_count": 2,
   "metadata": {
    "collapsed": false,
    "scrolled": true
   },
   "outputs": [
    {
     "ename": "ERROR",
     "evalue": "Error in parse(text = x, srcfile = src): <text>:2:0: unexpected end of input\n1: 1 +\n   ^\n",
     "output_type": "error",
     "traceback": [
      "Error in parse(text = x, srcfile = src): <text>:2:0: unexpected end of input\n1: 1 +\n   ^\nTraceback:\n"
     ]
    }
   ],
   "source": [
    "1 +"
   ]
  },
  {
   "cell_type": "markdown",
   "metadata": {},
   "source": [
    "Any time you hit return and the R session shows a “+” instead of a “>”, it means it’s waiting for you to complete the command. \n",
    "\n",
    "If you want to cancel a command you can simply hit “Esc” and RStudio will give you back the “>” prompt."
   ]
  },
  {
   "cell_type": "markdown",
   "metadata": {},
   "source": [
    "When using R as a calculator, the order of operations is the same as you would have learned back in school.\n",
    "\n",
    "From highest to lowest precedence:\n",
    "* Parentheses: (, )\n",
    "* Exponents: ^ or **\n",
    "* Divide: /\n",
    "* Multiply: *\n",
    "* Add: +\n",
    "* Subtract: -\n"
   ]
  },
  {
   "cell_type": "code",
   "execution_count": 3,
   "metadata": {
    "collapsed": false
   },
   "outputs": [
    {
     "data": {
      "text/html": [
       "13"
      ],
      "text/latex": [
       "13"
      ],
      "text/markdown": [
       "13"
      ],
      "text/plain": [
       "[1] 13"
      ]
     },
     "metadata": {},
     "output_type": "display_data"
    }
   ],
   "source": [
    "3+5*2"
   ]
  },
  {
   "cell_type": "markdown",
   "metadata": {},
   "source": [
    "Use parentheses to group operations in order to force the order of evaluation if it differs from the default, or to make clear what you intend."
   ]
  },
  {
   "cell_type": "code",
   "execution_count": 4,
   "metadata": {
    "collapsed": false
   },
   "outputs": [
    {
     "data": {
      "text/html": [
       "16"
      ],
      "text/latex": [
       "16"
      ],
      "text/markdown": [
       "16"
      ],
      "text/plain": [
       "[1] 16"
      ]
     },
     "metadata": {},
     "output_type": "display_data"
    }
   ],
   "source": [
    "(3 + 5) * 2"
   ]
  },
  {
   "cell_type": "markdown",
   "metadata": {},
   "source": [
    "This can get unwieldy when not needed, but clarifies your intentions. Remember that others may later read your code. "
   ]
  },
  {
   "cell_type": "markdown",
   "metadata": {},
   "source": [
    "`(3 + (5 * (2 ^ 2))) # hard to read\n",
    "3 + 5 * 2 ^ 2       # clear, if you remember the rules\n",
    "3 + 5 * (2 ^ 2)     # if you forget some rules, this might help`"
   ]
  },
  {
   "cell_type": "markdown",
   "metadata": {},
   "source": [
    "The text after each line of code is called a “comment”. Anything that follows after the hash/pound symbol # is ignored by R when it executes code.\n",
    "\n",
    "Really small or large numbers get a scientific notation:"
   ]
  },
  {
   "cell_type": "code",
   "execution_count": 5,
   "metadata": {
    "collapsed": false
   },
   "outputs": [
    {
     "data": {
      "text/html": [
       "2e-04"
      ],
      "text/latex": [
       "2e-04"
      ],
      "text/markdown": [
       "2e-04"
      ],
      "text/plain": [
       "[1] 2e-04"
      ]
     },
     "metadata": {},
     "output_type": "display_data"
    }
   ],
   "source": [
    "2/10000"
   ]
  },
  {
   "cell_type": "markdown",
   "metadata": {},
   "source": [
    "Which is shorthand for “multiplied by 10^XX”. So 2e-4 is shorthand for 2 * 10^(-4).\n",
    "\n",
    "You can write numbers in scientific notation too:"
   ]
  },
  {
   "cell_type": "code",
   "execution_count": 6,
   "metadata": {
    "collapsed": false
   },
   "outputs": [
    {
     "data": {
      "text/html": [
       "5000"
      ],
      "text/latex": [
       "5000"
      ],
      "text/markdown": [
       "5000"
      ],
      "text/plain": [
       "[1] 5000"
      ]
     },
     "metadata": {},
     "output_type": "display_data"
    }
   ],
   "source": [
    "5e3  # Note the lack of minus here"
   ]
  },
  {
   "cell_type": "markdown",
   "metadata": {},
   "source": [
    "#### Mathematical functions\n",
    "R has many built in mathematical functions. To call a function, we simply type its name, followed by open and closing parentheses.\n",
    "\n",
    "Anything we type inside the parentheses is called the function’s arguments:"
   ]
  },
  {
   "cell_type": "code",
   "execution_count": 7,
   "metadata": {
    "collapsed": false
   },
   "outputs": [
    {
     "data": {
      "text/html": [
       "0.841470984807897"
      ],
      "text/latex": [
       "0.841470984807897"
      ],
      "text/markdown": [
       "0.841470984807897"
      ],
      "text/plain": [
       "[1] 0.841471"
      ]
     },
     "metadata": {},
     "output_type": "display_data"
    }
   ],
   "source": [
    "sin(1)  # trigonometry functions"
   ]
  },
  {
   "cell_type": "code",
   "execution_count": 8,
   "metadata": {
    "collapsed": false
   },
   "outputs": [
    {
     "data": {
      "text/html": [
       "0"
      ],
      "text/latex": [
       "0"
      ],
      "text/markdown": [
       "0"
      ],
      "text/plain": [
       "[1] 0"
      ]
     },
     "metadata": {},
     "output_type": "display_data"
    }
   ],
   "source": [
    "log(1)  # natural logarithm"
   ]
  },
  {
   "cell_type": "code",
   "execution_count": 9,
   "metadata": {
    "collapsed": false
   },
   "outputs": [
    {
     "data": {
      "text/html": [
       "1"
      ],
      "text/latex": [
       "1"
      ],
      "text/markdown": [
       "1"
      ],
      "text/plain": [
       "[1] 1"
      ]
     },
     "metadata": {},
     "output_type": "display_data"
    }
   ],
   "source": [
    "log10(10) # base-10 logarithm"
   ]
  },
  {
   "cell_type": "code",
   "execution_count": 10,
   "metadata": {
    "collapsed": false
   },
   "outputs": [
    {
     "data": {
      "text/html": [
       "1.64872127070013"
      ],
      "text/latex": [
       "1.64872127070013"
      ],
      "text/markdown": [
       "1.64872127070013"
      ],
      "text/plain": [
       "[1] 1.648721"
      ]
     },
     "metadata": {},
     "output_type": "display_data"
    }
   ],
   "source": [
    "exp(0.5) # e^(1/2)"
   ]
  },
  {
   "cell_type": "markdown",
   "metadata": {},
   "source": [
    "Don’t worry about trying to remember every function in R. \n",
    "\n",
    "You can simply look them up on Google, or if you can remember the start of the function’s name, use the tab completion in RStudio.\n",
    "\n",
    "** This is one advantage that RStudio has over R on its own, it has auto-completion abilities that allow you to more easily look up functions, their arguments, and the values that they take. **\n",
    "\n",
    "Typing a ? before the name of a command will open the help page for that command. \n",
    "\n",
    "As well as providing a detailed description of the command and how it works, scrolling to the bottom of the help page will usually show a collection of code examples which illustrate command usage."
   ]
  },
  {
   "cell_type": "markdown",
   "metadata": {},
   "source": [
    "#### Comparing things\n",
    "\n",
    "We can also do comparison in R:"
   ]
  },
  {
   "cell_type": "code",
   "execution_count": 11,
   "metadata": {
    "collapsed": false
   },
   "outputs": [
    {
     "data": {
      "text/html": [
       "TRUE"
      ],
      "text/latex": [
       "TRUE"
      ],
      "text/markdown": [
       "TRUE"
      ],
      "text/plain": [
       "[1] TRUE"
      ]
     },
     "metadata": {},
     "output_type": "display_data"
    }
   ],
   "source": [
    "1 == 1  # equality (note two equals signs, read as \"is equal to\")"
   ]
  },
  {
   "cell_type": "code",
   "execution_count": 12,
   "metadata": {
    "collapsed": false
   },
   "outputs": [
    {
     "data": {
      "text/html": [
       "TRUE"
      ],
      "text/latex": [
       "TRUE"
      ],
      "text/markdown": [
       "TRUE"
      ],
      "text/plain": [
       "[1] TRUE"
      ]
     },
     "metadata": {},
     "output_type": "display_data"
    }
   ],
   "source": [
    "1 != 2  # inequality (read as \"is not equal to\")"
   ]
  },
  {
   "cell_type": "code",
   "execution_count": 13,
   "metadata": {
    "collapsed": false
   },
   "outputs": [
    {
     "data": {
      "text/html": [
       "TRUE"
      ],
      "text/latex": [
       "TRUE"
      ],
      "text/markdown": [
       "TRUE"
      ],
      "text/plain": [
       "[1] TRUE"
      ]
     },
     "metadata": {},
     "output_type": "display_data"
    }
   ],
   "source": [
    "1 <  2  # less than"
   ]
  },
  {
   "cell_type": "code",
   "execution_count": 14,
   "metadata": {
    "collapsed": false
   },
   "outputs": [
    {
     "data": {
      "text/html": [
       "TRUE"
      ],
      "text/latex": [
       "TRUE"
      ],
      "text/markdown": [
       "TRUE"
      ],
      "text/plain": [
       "[1] TRUE"
      ]
     },
     "metadata": {},
     "output_type": "display_data"
    }
   ],
   "source": [
    "1 > 0  # greater than"
   ]
  },
  {
   "cell_type": "code",
   "execution_count": 15,
   "metadata": {
    "collapsed": false
   },
   "outputs": [
    {
     "data": {
      "text/html": [
       "TRUE"
      ],
      "text/latex": [
       "TRUE"
      ],
      "text/markdown": [
       "TRUE"
      ],
      "text/plain": [
       "[1] TRUE"
      ]
     },
     "metadata": {},
     "output_type": "display_data"
    }
   ],
   "source": [
    "1 >= -9 # greater than or equal to"
   ]
  },
  {
   "cell_type": "markdown",
   "metadata": {},
   "source": [
    "Tip comparing numbers:\n",
    "\n",
    "A word of warning about comparing numbers: you should never use == to compare two numbers unless they are integers (a data type which can specifically represent only whole numbers).\n",
    "\n",
    "Computers may only represent decimal numbers with a certain degree of precision, so two numbers which look the same when printed out by R, may actually have different underlying representations and therefore be different by a small margin of error (called Machine numeric tolerance).\n",
    "\n",
    "\n",
    "Instead you should use the all.equal function.\n",
    "Further reading: http://floating-point-gui.de/"
   ]
  },
  {
   "cell_type": "markdown",
   "metadata": {},
   "source": [
    "#### Variables and assignment\n",
    "\n",
    "We can store values in variables using the assignment operator <-, like this:"
   ]
  },
  {
   "cell_type": "code",
   "execution_count": 16,
   "metadata": {
    "collapsed": true
   },
   "outputs": [],
   "source": [
    "x <- 1/40\n"
   ]
  },
  {
   "cell_type": "markdown",
   "metadata": {},
   "source": [
    "Notice that assignment does not print a value.  \n",
    "\n",
    "Check under **Environment Tab.**\n",
    "\n",
    "Instead, we stored it for later in something called a variable. \n",
    "\n",
    "x now contains the value 0.025:"
   ]
  },
  {
   "cell_type": "code",
   "execution_count": 17,
   "metadata": {
    "collapsed": false
   },
   "outputs": [
    {
     "data": {
      "text/html": [
       "0.025"
      ],
      "text/latex": [
       "0.025"
      ],
      "text/markdown": [
       "0.025"
      ],
      "text/plain": [
       "[1] 0.025"
      ]
     },
     "metadata": {},
     "output_type": "display_data"
    }
   ],
   "source": [
    "x"
   ]
  },
  {
   "cell_type": "markdown",
   "metadata": {},
   "source": [
    "Notice also that variables can be **reassigned:**"
   ]
  },
  {
   "cell_type": "code",
   "execution_count": 18,
   "metadata": {
    "collapsed": true
   },
   "outputs": [],
   "source": [
    "x <- 100"
   ]
  },
  {
   "cell_type": "markdown",
   "metadata": {},
   "source": [
    "x used to contain the value 0.025 and and now it has the value 100.\n",
    "\n",
    "Assignment values can contain the variable being assigned to:\n"
   ]
  },
  {
   "cell_type": "code",
   "execution_count": 20,
   "metadata": {
    "collapsed": true
   },
   "outputs": [],
   "source": [
    "x <- x + 1 #notice how RStudio updates its description of x on the top right tab"
   ]
  },
  {
   "cell_type": "markdown",
   "metadata": {},
   "source": [
    "The right hand side of the assignment can be any valid R expression. \n",
    "\n",
    "The right hand side is fully evaluated before the assignment occurs."
   ]
  },
  {
   "cell_type": "markdown",
   "metadata": {},
   "source": [
    "#### Note about Variable names \n",
    "\n",
    "can contain letters, numbers, underscores and periods. They cannot start with a number nor contain spaces at all. Different people use different conventions for long variable names, these include:\n",
    "\n",
    "* periods.between.words\n",
    "* underscores_between_words\n",
    "* camelCaseToSeparateWords\n",
    "\n",
    "What you use is up to you, but **be consistent.**"
   ]
  },
  {
   "cell_type": "markdown",
   "metadata": {},
   "source": [
    "It is also possible to use the =  operator for assignment:"
   ]
  },
  {
   "cell_type": "code",
   "execution_count": 21,
   "metadata": {
    "collapsed": true
   },
   "outputs": [],
   "source": [
    "x = 1/40"
   ]
  },
  {
   "cell_type": "markdown",
   "metadata": {},
   "source": [
    "But this is much less common among R users.\n",
    "\n",
    "The most important thing is to be consistent with the operator you use. \n",
    "There are occasionally places where it is less confusing to use <- than =, and it is the most common symbol used in the community. \n",
    "\n",
    "So the recommendation is to use <-.\n"
   ]
  },
  {
   "cell_type": "markdown",
   "metadata": {},
   "source": [
    "### Vectorization\n",
    "\n",
    "One final thing to be aware of is that R is vectorized, meaning that variables and functions can have vectors as values. For example:\n"
   ]
  },
  {
   "cell_type": "code",
   "execution_count": 22,
   "metadata": {
    "collapsed": false
   },
   "outputs": [
    {
     "data": {
      "text/html": [
       "<ol class=list-inline>\n",
       "\t<li>1</li>\n",
       "\t<li>2</li>\n",
       "\t<li>3</li>\n",
       "\t<li>4</li>\n",
       "\t<li>5</li>\n",
       "</ol>\n"
      ],
      "text/latex": [
       "\\begin{enumerate*}\n",
       "\\item 1\n",
       "\\item 2\n",
       "\\item 3\n",
       "\\item 4\n",
       "\\item 5\n",
       "\\end{enumerate*}\n"
      ],
      "text/markdown": [
       "1. 1\n",
       "2. 2\n",
       "3. 3\n",
       "4. 4\n",
       "5. 5\n",
       "\n",
       "\n"
      ],
      "text/plain": [
       "[1] 1 2 3 4 5"
      ]
     },
     "metadata": {},
     "output_type": "display_data"
    }
   ],
   "source": [
    "1:5"
   ]
  },
  {
   "cell_type": "code",
   "execution_count": 23,
   "metadata": {
    "collapsed": false
   },
   "outputs": [
    {
     "data": {
      "text/html": [
       "<ol class=list-inline>\n",
       "\t<li>2</li>\n",
       "\t<li>4</li>\n",
       "\t<li>8</li>\n",
       "\t<li>16</li>\n",
       "\t<li>32</li>\n",
       "</ol>\n"
      ],
      "text/latex": [
       "\\begin{enumerate*}\n",
       "\\item 2\n",
       "\\item 4\n",
       "\\item 8\n",
       "\\item 16\n",
       "\\item 32\n",
       "\\end{enumerate*}\n"
      ],
      "text/markdown": [
       "1. 2\n",
       "2. 4\n",
       "3. 8\n",
       "4. 16\n",
       "5. 32\n",
       "\n",
       "\n"
      ],
      "text/plain": [
       "[1]  2  4  8 16 32"
      ]
     },
     "metadata": {},
     "output_type": "display_data"
    }
   ],
   "source": [
    "2^(1:5)"
   ]
  },
  {
   "cell_type": "code",
   "execution_count": 24,
   "metadata": {
    "collapsed": true
   },
   "outputs": [],
   "source": [
    "x<-1:5"
   ]
  },
  {
   "cell_type": "code",
   "execution_count": 25,
   "metadata": {
    "collapsed": false
   },
   "outputs": [
    {
     "data": {
      "text/html": [
       "<ol class=list-inline>\n",
       "\t<li>2</li>\n",
       "\t<li>4</li>\n",
       "\t<li>8</li>\n",
       "\t<li>16</li>\n",
       "\t<li>32</li>\n",
       "</ol>\n"
      ],
      "text/latex": [
       "\\begin{enumerate*}\n",
       "\\item 2\n",
       "\\item 4\n",
       "\\item 8\n",
       "\\item 16\n",
       "\\item 32\n",
       "\\end{enumerate*}\n"
      ],
      "text/markdown": [
       "1. 2\n",
       "2. 4\n",
       "3. 8\n",
       "4. 16\n",
       "5. 32\n",
       "\n",
       "\n"
      ],
      "text/plain": [
       "[1]  2  4  8 16 32"
      ]
     },
     "metadata": {},
     "output_type": "display_data"
    }
   ],
   "source": [
    "2^x"
   ]
  },
  {
   "cell_type": "markdown",
   "metadata": {},
   "source": [
    "This is incredibly powerful; we will discuss this further in an upcoming lesson."
   ]
  },
  {
   "cell_type": "markdown",
   "metadata": {},
   "source": [
    "#### Managing your environment\n",
    "There are a few useful commands you can use to interact with the R session.\n",
    "\n",
    "**`ls`** will list all of the variables and functions stored in the global environment (your working R session):\n"
   ]
  },
  {
   "cell_type": "code",
   "execution_count": 26,
   "metadata": {
    "collapsed": false
   },
   "outputs": [
    {
     "data": {
      "text/html": [
       "'x'"
      ],
      "text/latex": [
       "'x'"
      ],
      "text/markdown": [
       "'x'"
      ],
      "text/plain": [
       "[1] \"x\""
      ]
     },
     "metadata": {},
     "output_type": "display_data"
    }
   ],
   "source": [
    "ls()"
   ]
  },
  {
   "cell_type": "markdown",
   "metadata": {},
   "source": [
    "Note here that we didn’t given any arguments to **`ls`**, but we still needed to give the parentheses to tell R to call the function.\n",
    "\n",
    "If we type **`ls`** by itself, R will print out the source code for that function!"
   ]
  },
  {
   "cell_type": "markdown",
   "metadata": {},
   "source": [
    "ls"
   ]
  },
  {
   "cell_type": "markdown",
   "metadata": {},
   "source": [
    "You can use rm to delete objects you no longer need:"
   ]
  },
  {
   "cell_type": "code",
   "execution_count": 27,
   "metadata": {
    "collapsed": true
   },
   "outputs": [],
   "source": [
    "rm(x)"
   ]
  },
  {
   "cell_type": "markdown",
   "metadata": {},
   "source": [
    "If you have lots of things in your environment and want to delete all of them, you can pass the results of ls to the **`rm`** function:"
   ]
  },
  {
   "cell_type": "code",
   "execution_count": 28,
   "metadata": {
    "collapsed": true
   },
   "outputs": [],
   "source": [
    "rm(list = ls())"
   ]
  },
  {
   "cell_type": "markdown",
   "metadata": {},
   "source": [
    "In this case we’ve combined the two. Like the order of operations, anything inside the innermost parentheses is evaluated first, and so on.\n",
    "\n",
    "In this case we’ve specified that the results of ls should be used for the list argument in **`rm`**. \n",
    "\n",
    "When **assigning values to arguments by name, you must use the `=` operator!**"
   ]
  },
  {
   "cell_type": "markdown",
   "metadata": {},
   "source": [
    "## R Packages\n",
    "\n",
    "#### Talk about packages:\n",
    "\n",
    "It is possible to add functions to R by writing a package, or by obtaining a package written by someone else. \n",
    "\n",
    "there are over 7,000 packages available on CRAN (the comprehensive R archive network). \n",
    "\n",
    "* show the CRAN task views\n",
    "* https://cran.r-project.org/web/views/\n",
    "\n",
    "**go through examples of an R help page: help files can be intimidating at first, but knowing how to read them is tremendously useful.**\n",
    "\n",
    "R and RStudio have functionality for managing packages:\n",
    "\n",
    "* You can see what packages are installed by typing `installed.packages()`\n",
    "* You can install packages by typing `install.packages(\"packagename\")`, where packagename is the package name, in quotes.\n",
    "* You can update installed packages by typing `update.packages()`\n",
    "* You can remove a package with `remove.packages(\"packagename\")`\n",
    "* You can make a package available for use with `library(packagename`)\n"
   ]
  },
  {
   "cell_type": "markdown",
   "metadata": {},
   "source": [
    "#### Do Challenge 4 (modified) - Discussion\n",
    "Create some variables and assign values.  Then clean up your working environment by deleting the variables.\n",
    "\n",
    "#### Solution:\n",
    "We can use the rm command to accomplish this task\n",
    "E.g. **`rm(age, mass)`**\n",
    "\n",
    "\n",
    "* Show SWC lesson challenges on screen.\n",
    "* Read through questions.\n",
    "* Give Solutions\n"
   ]
  },
  {
   "cell_type": "markdown",
   "metadata": {},
   "source": [
    "## Lesson 2: Project Management With RStudio\n",
    "\n",
    "The scientific process is naturally incremental, \n",
    "and many projects start life as random notes, some code, then a manuscript, \n",
    "and eventually everything is a bit mixed together.\n",
    "\n",
    "Then you end up with something like this:\n",
    "\n",
    "Show image:\n",
    "http://swcarpentry.github.io/r-novice-gapminder/fig/bad_layout.png"
   ]
  },
  {
   "cell_type": "markdown",
   "metadata": {},
   "source": [
    "There are many reasons why we should ALWAYS avoid this:\n",
    "\n",
    "1. It is really hard to tell which version of your data is the original and which is the modified;\n",
    "2. It gets really messy because it mixes files with various extensions together;\n",
    "3. It probably takes you a lot of time to actually find things, and relate the correct figures to the exact code that has been used to generate it;\n"
   ]
  },
  {
   "cell_type": "markdown",
   "metadata": {},
   "source": [
    "A ** good project layout**  will ultimately make your life easier:\n",
    "\n",
    "* It will help ensure the integrity of your data;\n",
    "* It makes it simpler to share your code with someone else (a lab-mate, collaborator, or supervisor);\n",
    "* It allows you to easily upload your code with your manuscript submission;\n",
    "* It makes it easier to pick the project back up after a break.\n"
   ]
  },
  {
   "cell_type": "markdown",
   "metadata": {},
   "source": [
    "#### A possible solution\n",
    "Fortunately, there are tools and packages which can help you manage your work effectively.\n",
    "\n",
    "One of the most powerful and useful aspects of RStudio is its project management functionality. \n",
    "\n",
    "We’ll be using this today to create a self-contained, reproducible project.\n"
   ]
  },
  {
   "cell_type": "markdown",
   "metadata": {},
   "source": [
    "### Challenge: (copy to etherpad)\n",
    "\n",
    "#### Do Challenge together:\n",
    "We’re going to create a new project in RStudio:\n",
    "\n",
    "1. Click the “File” menu button, then “New Project”.\n",
    "2. Click “New Directory”.\n",
    "3. Click “Empty Project”.\n",
    "4. Type in the name of the directory to store your project, e.g. “gps-r” or whatever you like, and navigate where you want this directory to live (Desktop is usually easy to find)\n",
    "5. For now, ignore, checkbox for “Create a git repository” is not selected. Explain git repo\n",
    "6. Click the “Create Project” button.\n",
    "\n",
    "\n",
    "Next create a data folder inside our project.\n",
    "\n",
    "1. Once you create a project above you should be in the project folder and the following will work\n",
    "2. In RStudio far lower right pane, select the 'Files' tab\n",
    "3. Click 'New Folder' and name it 'data'\n",
    "4. You will now see a new data folder created in the project directory.\n",
    "Data will be downloaded and saved in this folder later in the lesson.\n"
   ]
  },
  {
   "cell_type": "markdown",
   "metadata": {},
   "source": [
    "Now when we start R in this project directory, or open this project with RStudio, all of our work on this project will be entirely self-contained in this directory.\n",
    "\n",
    "#### Organizing your working directory\n",
    "When working with data in RStudio, you should separate the original (raw) data from intermediate datasets that you may create for the need of a particular analysis. \n",
    "\n",
    "for example, you could create the \n",
    "data directory - for your raw data\n",
    "create a data-output directory for working with intermediate data sets \n",
    "create a figure-output directory for the plots you will generate\n"
   ]
  },
  {
   "cell_type": "markdown",
   "metadata": {},
   "source": [
    "### Best practices for project organization (skip to Good enough doc link).\n",
    "\n",
    "Although there is no “best” way to lay out a project, there are some general principles to adhere to that will make project management easier:\n",
    "\n",
    "#### Treat data as read only\n",
    "\n",
    "This is probably the most important goal of setting up a project. \n",
    "Data is typically time consuming and/or expensive to collect. \n",
    "Working with them interactively (e.g., in Excel) where they can be modified means you are never sure of where the data came from, or how it has been modified since collection. \n",
    "It is therefore a good idea to treat your data as “read-only”.\n",
    "\n",
    "#### Data Cleaning\n",
    "In many cases your data will be “dirty”: it will need significant preprocessing to get into a format R (or any other programming language) will find useful. \n",
    "\n",
    "This task is sometimes called “data munging”.\n",
    "\n",
    "I find it useful to store these scripts in a separate folder, and create a second “read-only” data folder to hold the “cleaned” data sets.\n",
    "\n",
    "#### Treat generated output as disposable\n",
    "\n",
    "Anything generated by your scripts should be treated as disposable: it should all be able to be regenerated from your scripts.\n",
    "\n",
    "There are lots of different ways to manage this output. \n",
    "\n",
    "I find it useful to have an output folder with different sub-directories for each separate analysis. \n",
    "\n",
    "This makes it easier later, as many of my analyses are exploratory and don’t end up being used in the final project, and some of the analyses get shared between projects."
   ]
  },
  {
   "cell_type": "markdown",
   "metadata": {},
   "source": [
    "#### Copy this info to the etherpad:\n",
    "\n",
    "** Good Enough Practices for Scientific Computing**  gives the following recommendations for project organization: \n",
    "\n",
    "1. Put each project in its own directory, which is named after the project.\n",
    "2. Put text documents associated with the project in the doc directory.\n",
    "3. Put raw data and metadata in the data directory, and files generated during cleanup and analysis in a results directory.\n",
    "4. Put source for the project’s scripts and programs in the src directory, and programs brought in from elsewhere or compiled locally in the bin directory.\n",
    "5. Name all files to reflect their content or function.\n",
    "https://github.com/swcarpentry/good-enough-practices-in-scientific-computing/blob/gh-pages/good-enough-practices-for-scientific-computing.pdf\n"
   ]
  },
  {
   "cell_type": "markdown",
   "metadata": {},
   "source": [
    "#### Challenge 1 - Save the data in the data directory\n",
    "\n",
    "Download the gapminder data from here.\n",
    "\n",
    "https://raw.githubusercontent.com/resbaz/r-novice-gapminder-files/master/data/gapminder-FiveYearData.csv\n",
    "\n",
    "1. Download the file (CTRL + S, right mouse click -> “Save as”, or File -> “Save page as”)\n",
    "2. Make sure it’s saved under the name gapminder-FiveYearData.csv\n",
    "3. Save the file in the data/ folder within your project.\n",
    "4. In Files window double click data/ folder, you will now see the saved data.\n",
    "  * If data is not there move .csv to data folder from desktop.\n",
    "\n",
    "**To make sure we have the right data, we can view the data:**\n",
    "\t* click data/ folder\n",
    "\t* Click on gapminder-FiverYearData.csv\n",
    "\t* Select view file\n",
    "\t* In Console window you can see a new tab appear showing the data.\n",
    "\t\n",
    "This is the data we will be working for this workshop later on.\n"
   ]
  },
  {
   "cell_type": "markdown",
   "metadata": {},
   "source": [
    "# LESSON 3: Seeking Help\n",
    "\n",
    "## Reading Help files\n",
    "\n",
    "R, and every package, provide help files for functions. To search for help on a function from a specific function that is in a package loaded into your namespace (your interactive R session):\n"
   ]
  },
  {
   "cell_type": "markdown",
   "metadata": {},
   "source": [
    "`?function_name\n",
    "help(“function_name”)`\n"
   ]
  },
  {
   "cell_type": "markdown",
   "metadata": {},
   "source": [
    "Type in an example:"
   ]
  },
  {
   "cell_type": "code",
   "execution_count": 29,
   "metadata": {
    "collapsed": true
   },
   "outputs": [],
   "source": [
    "?vector"
   ]
  },
  {
   "cell_type": "markdown",
   "metadata": {},
   "source": [
    "This will load up a help page in RStudio (or as plain text in R by itself).\n",
    "\n",
    "Each help page is broken down into sections:\n",
    "\n",
    "* **Description:** An extended description of what the function does.\n",
    "* **Usage:** The arguments of the function and their default values.\n",
    "* **Arguments:** An explanation of the data each argument is expecting.\n",
    "* **Details:** Any important details to be aware of.\n",
    "* **Value:** The data the function returns.\n",
    "* **See Also:** Any related functions you might find useful.\n",
    "* **Examples:** Some examples for how to use the function.\n",
    "\n",
    "Different functions might have different sections, but these are the main ones you should be aware of.\n"
   ]
  },
  {
   "cell_type": "markdown",
   "metadata": {},
   "source": [
    "### Special Operators\n",
    "\n",
    "To seek help on special operators, use quotes:\n",
    "\n",
    "`?\"+\"`"
   ]
  },
  {
   "cell_type": "markdown",
   "metadata": {},
   "source": [
    "#### Getting help on packages\n",
    "\n",
    "Many packages come with “vignettes”: tutorials and extended example documentation. Without any arguments, vignette() will list all vignettes for all installed packages; vignette(package=\"package-name\") will list all available vignettes for package-name, and vignette(\"vignette-name\") will open the specified vignette.\n",
    "\n",
    "If a package doesn’t have any vignettes, you can usually find help by typing \n",
    "\n",
    "help(\"package-name\")\n",
    "\n",
    "When you kind of remember the function\n",
    "\n",
    "If you’re not sure what package a function is in, or how it’s specifically spelled you can do a fuzzy search:\n",
    "\n",
    "??function_name\n"
   ]
  },
  {
   "cell_type": "markdown",
   "metadata": {},
   "source": [
    "#### When your code doesn’t work: seeking help from your peers\n",
    "\n",
    "If you’re having trouble using a function, 9 times out of 10, the answers you are seeking have already been answered on Stack Overflow or use Google search\n",
    "\n",
    "You can search using the [r] tag.\n",
    "\n",
    "If you can’t find the answer, there are a few useful functions to help you ask a question from your peers:\n",
    "\n",
    "`?dput`\n",
    "\n",
    "\n",
    "Will dump the data you’re working with into a format so that it can be copy and pasted by anyone else into their R session.\n",
    "\n",
    "`sessionInfo()`\n",
    "\n",
    "Will print out your current version of R, as well as any packages you have loaded. This can be useful for others to help reproduce and debug your issue.\n",
    "\n",
    "In the next lesson we’ll be taking a look at Data Structures.\n",
    "\n",
    "\n"
   ]
  },
  {
   "cell_type": "code",
   "execution_count": null,
   "metadata": {
    "collapsed": true
   },
   "outputs": [],
   "source": []
  }
 ],
 "metadata": {
  "kernelspec": {
   "display_name": "R",
   "language": "R",
   "name": "ir"
  },
  "language_info": {
   "codemirror_mode": "r",
   "file_extension": ".r",
   "mimetype": "text/x-r-source",
   "name": "R",
   "pygments_lexer": "r",
   "version": "3.3.1"
  }
 },
 "nbformat": 4,
 "nbformat_minor": 0
}
