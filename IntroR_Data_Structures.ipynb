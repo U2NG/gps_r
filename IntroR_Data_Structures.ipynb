{
 "cells": [
  {
   "cell_type": "markdown",
   "metadata": {},
   "source": [
    "# Data Structures Lesson Notes"
   ]
  },
  {
   "cell_type": "markdown",
   "metadata": {},
   "source": [
    "Teaching: 40 min\n",
    "\n",
    "Exercises: 15 min\n",
    "\n",
    "Questions\n",
    "* How can I read data in R?\n",
    "* What are the basic data types in R?\n",
    "* How do I represent categorical information in R?\n",
    "\n",
    "Objectives\n",
    "* To be aware of the different types of data.\n",
    "* To begin exploring data frames, and understand how it’s related to * vectors, factors and lists.\n",
    "* To be able to ask questions from R about the type, class, and structure of an object."
   ]
  },
  {
   "cell_type": "markdown",
   "metadata": {},
   "source": [
    "## Begin Lesson here"
   ]
  },
  {
   "cell_type": "markdown",
   "metadata": {},
   "source": [
    "* One of R’s most powerful features is its ability to deal with tabular data\n",
    "\n",
    "\n"
   ]
  },
  {
   "cell_type": "markdown",
   "metadata": {},
   "source": [
    "* start by making a toy dataset in your data/ directory, called feline-data.csv:"
   ]
  },
  {
   "cell_type": "markdown",
   "metadata": {},
   "source": [
    "create data/feline-data.csv using:\n",
    "* a text editor (Nano) or \n",
    "* within RStudio with the File -> New File -> Text File menu item."
   ]
  },
  {
   "cell_type": "markdown",
   "metadata": {},
   "source": [
    "add the following data to the file:"
   ]
  },
  {
   "cell_type": "code",
   "execution_count": null,
   "metadata": {
    "collapsed": true
   },
   "outputs": [],
   "source": [
    "coat,weight,likes_string\n",
    "calico,2.1,1\n",
    "black,5.0,0\n",
    "tabby,3.2,1"
   ]
  },
  {
   "cell_type": "markdown",
   "metadata": {},
   "source": [
    "### make sure the data file is saved in the home/data folder"
   ]
  },
  {
   "cell_type": "code",
   "execution_count": 1,
   "metadata": {
    "collapsed": true
   },
   "outputs": [],
   "source": [
    "cats  <- read.csv(file = \"~/Desktop/gps_r/feline-data.csv\")"
   ]
  },
  {
   "cell_type": "code",
   "execution_count": 2,
   "metadata": {
    "collapsed": false
   },
   "outputs": [
    {
     "data": {
      "text/html": [
       "<table>\n",
       "<thead><tr><th></th><th scope=col>coat</th><th scope=col>weight</th><th scope=col>likes_string</th></tr></thead>\n",
       "<tbody>\n",
       "\t<tr><th scope=row>1</th><td>calico</td><td>2.1   </td><td>1     </td></tr>\n",
       "\t<tr><th scope=row>2</th><td>black</td><td>5    </td><td>0    </td></tr>\n",
       "\t<tr><th scope=row>3</th><td>tabby</td><td>3.2  </td><td>1    </td></tr>\n",
       "</tbody>\n",
       "</table>\n"
      ],
      "text/latex": [
       "\\begin{tabular}{r|lll}\n",
       "  & coat & weight & likes\\_string\\\\\n",
       "\\hline\n",
       "\t1 & calico & 2.1    & 1     \\\\\n",
       "\t2 & black & 5     & 0    \\\\\n",
       "\t3 & tabby & 3.2   & 1    \\\\\n",
       "\\end{tabular}\n"
      ],
      "text/plain": [
       "    coat weight likes_string\n",
       "1 calico    2.1            1\n",
       "2  black    5.0            0\n",
       "3  tabby    3.2            1"
      ]
     },
     "metadata": {},
     "output_type": "display_data"
    }
   ],
   "source": [
    "cats"
   ]
  },
  {
   "cell_type": "markdown",
   "metadata": {},
   "source": [
    "* he read.csv function is used for reading in tabular data stored in a text file where the columns of data are delimited by commas (csv = comma separated values). \n",
    "\n",
    "* Tabs are also commonly used to separated columns - if your data are in this format you can use the function read.delim.\n",
    "\n",
    "* There is also the general read.table function that is used if the columns in your data are delimited by a character other that commas or tabs. "
   ]
  },
  {
   "cell_type": "markdown",
   "metadata": {},
   "source": [
    "With data loaded, we can now explore our data set, pull out columns and specify the musing the $ operator:"
   ]
  },
  {
   "cell_type": "code",
   "execution_count": 3,
   "metadata": {
    "collapsed": false
   },
   "outputs": [
    {
     "data": {
      "text/html": [
       "<ol class=list-inline>\n",
       "\t<li>2.1</li>\n",
       "\t<li>5</li>\n",
       "\t<li>3.2</li>\n",
       "</ol>\n"
      ],
      "text/latex": [
       "\\begin{enumerate*}\n",
       "\\item 2.1\n",
       "\\item 5\n",
       "\\item 3.2\n",
       "\\end{enumerate*}\n"
      ],
      "text/markdown": [
       "1. 2.1\n",
       "2. 5\n",
       "3. 3.2\n",
       "\n",
       "\n"
      ],
      "text/plain": [
       "[1] 2.1 5.0 3.2"
      ]
     },
     "metadata": {},
     "output_type": "display_data"
    }
   ],
   "source": [
    "cats$weight"
   ]
  },
  {
   "cell_type": "code",
   "execution_count": 5,
   "metadata": {
    "collapsed": false
   },
   "outputs": [
    {
     "data": {
      "text/html": [
       "<ol class=list-inline>\n",
       "\t<li>calico</li>\n",
       "\t<li>black</li>\n",
       "\t<li>tabby</li>\n",
       "</ol>\n"
      ],
      "text/latex": [
       "\\begin{enumerate*}\n",
       "\\item calico\n",
       "\\item black\n",
       "\\item tabby\n",
       "\\end{enumerate*}\n"
      ],
      "text/markdown": [
       "1. calico\n",
       "2. black\n",
       "3. tabby\n",
       "\n",
       "\n"
      ],
      "text/plain": [
       "[1] calico black  tabby \n",
       "Levels: black calico tabby"
      ]
     },
     "metadata": {},
     "output_type": "display_data"
    }
   ],
   "source": [
    "cats$coat"
   ]
  },
  {
   "cell_type": "markdown",
   "metadata": {},
   "source": [
    "We can do other operations on the columns:"
   ]
  },
  {
   "cell_type": "code",
   "execution_count": 6,
   "metadata": {
    "collapsed": false
   },
   "outputs": [
    {
     "data": {
      "text/html": [
       "<ol class=list-inline>\n",
       "\t<li>4.1</li>\n",
       "\t<li>7</li>\n",
       "\t<li>5.2</li>\n",
       "</ol>\n"
      ],
      "text/latex": [
       "\\begin{enumerate*}\n",
       "\\item 4.1\n",
       "\\item 7\n",
       "\\item 5.2\n",
       "\\end{enumerate*}\n"
      ],
      "text/markdown": [
       "1. 4.1\n",
       "2. 7\n",
       "3. 5.2\n",
       "\n",
       "\n"
      ],
      "text/plain": [
       "[1] 4.1 7.0 5.2"
      ]
     },
     "metadata": {},
     "output_type": "display_data"
    }
   ],
   "source": [
    "## say we discovered that the scale weights two Kg light:\n",
    "cats$weight + 2"
   ]
  },
  {
   "cell_type": "code",
   "execution_count": 7,
   "metadata": {
    "collapsed": false
   },
   "outputs": [
    {
     "data": {
      "text/html": [
       "<ol class=list-inline>\n",
       "\t<li>'my cat is calico'</li>\n",
       "\t<li>'my cat is black'</li>\n",
       "\t<li>'my cat is tabby'</li>\n",
       "</ol>\n"
      ],
      "text/latex": [
       "\\begin{enumerate*}\n",
       "\\item 'my cat is calico'\n",
       "\\item 'my cat is black'\n",
       "\\item 'my cat is tabby'\n",
       "\\end{enumerate*}\n"
      ],
      "text/markdown": [
       "1. 'my cat is calico'\n",
       "2. 'my cat is black'\n",
       "3. 'my cat is tabby'\n",
       "\n",
       "\n"
      ],
      "text/plain": [
       "[1] \"my cat is calico\" \"my cat is black\"  \"my cat is tabby\" "
      ]
     },
     "metadata": {},
     "output_type": "display_data"
    }
   ],
   "source": [
    "paste(\"my cat is\", cats$coat)"
   ]
  },
  {
   "cell_type": "markdown",
   "metadata": {},
   "source": [
    "But what about if we type this:"
   ]
  },
  {
   "cell_type": "code",
   "execution_count": 8,
   "metadata": {
    "collapsed": false
   },
   "outputs": [
    {
     "name": "stderr",
     "output_type": "stream",
     "text": [
      "Warning message in Ops.factor(cats$weight, cats$coat):\n",
      "“‘+’ not meaningful for factors”"
     ]
    },
    {
     "data": {
      "text/html": [
       "<ol class=list-inline>\n",
       "\t<li>NA</li>\n",
       "\t<li>NA</li>\n",
       "\t<li>NA</li>\n",
       "</ol>\n"
      ],
      "text/latex": [
       "\\begin{enumerate*}\n",
       "\\item NA\n",
       "\\item NA\n",
       "\\item NA\n",
       "\\end{enumerate*}\n"
      ],
      "text/markdown": [
       "1. NA\n",
       "2. NA\n",
       "3. NA\n",
       "\n",
       "\n"
      ],
      "text/plain": [
       "[1] NA NA NA"
      ]
     },
     "metadata": {},
     "output_type": "display_data"
    }
   ],
   "source": [
    "cats$weight + cats$coat"
   ]
  },
  {
   "cell_type": "markdown",
   "metadata": {},
   "source": [
    "* We get a warning message\n",
    "\n",
    "### understanding what happned here is key to successfully analyzing data in R"
   ]
  },
  {
   "cell_type": "markdown",
   "metadata": {},
   "source": [
    "# Data Types"
   ]
  },
  {
   "cell_type": "markdown",
   "metadata": {},
   "source": [
    "The last command we ran returned an error because\n",
    "* 2.1 + \"black\" is nonsense\n",
    "*  If you guess this is the reason, you are right\n",
    "* you have some intuition for an important concept in programming called\n",
    "            data types\n",
    "* for exxample we can ask what type of data something is:"
   ]
  },
  {
   "cell_type": "code",
   "execution_count": 9,
   "metadata": {
    "collapsed": false
   },
   "outputs": [
    {
     "data": {
      "text/html": [
       "'double'"
      ],
      "text/latex": [
       "'double'"
      ],
      "text/markdown": [
       "'double'"
      ],
      "text/plain": [
       "[1] \"double\""
      ]
     },
     "metadata": {},
     "output_type": "display_data"
    }
   ],
   "source": [
    "typeof(cats$weight)"
   ]
  },
  {
   "cell_type": "markdown",
   "metadata": {},
   "source": [
    "### There are 5 main data types:\n",
    "* double\n",
    "* integer\n",
    "* complex\n",
    "* logical\n",
    "* character\n",
    "\n",
    "Here are a few more examples of checking the data type:"
   ]
  },
  {
   "cell_type": "code",
   "execution_count": 10,
   "metadata": {
    "collapsed": false
   },
   "outputs": [
    {
     "data": {
      "text/html": [
       "'integer'"
      ],
      "text/latex": [
       "'integer'"
      ],
      "text/markdown": [
       "'integer'"
      ],
      "text/plain": [
       "[1] \"integer\""
      ]
     },
     "metadata": {},
     "output_type": "display_data"
    }
   ],
   "source": [
    "typeof(1L)"
   ]
  },
  {
   "cell_type": "code",
   "execution_count": 12,
   "metadata": {
    "collapsed": false
   },
   "outputs": [
    {
     "data": {
      "text/html": [
       "'complex'"
      ],
      "text/latex": [
       "'complex'"
      ],
      "text/markdown": [
       "'complex'"
      ],
      "text/plain": [
       "[1] \"complex\""
      ]
     },
     "metadata": {},
     "output_type": "display_data"
    }
   ],
   "source": [
    "typeof(1+1i)"
   ]
  },
  {
   "cell_type": "code",
   "execution_count": 13,
   "metadata": {
    "collapsed": false
   },
   "outputs": [
    {
     "data": {
      "text/html": [
       "'logical'"
      ],
      "text/latex": [
       "'logical'"
      ],
      "text/markdown": [
       "'logical'"
      ],
      "text/plain": [
       "[1] \"logical\""
      ]
     },
     "metadata": {},
     "output_type": "display_data"
    }
   ],
   "source": [
    "typeof(TRUE)"
   ]
  },
  {
   "cell_type": "code",
   "execution_count": 14,
   "metadata": {
    "collapsed": false
   },
   "outputs": [
    {
     "data": {
      "text/html": [
       "'character'"
      ],
      "text/latex": [
       "'character'"
      ],
      "text/markdown": [
       "'character'"
      ],
      "text/plain": [
       "[1] \"character\""
      ]
     },
     "metadata": {},
     "output_type": "display_data"
    }
   ],
   "source": [
    "typeof('banana')"
   ]
  },
  {
   "cell_type": "markdown",
   "metadata": {},
   "source": [
    "*  Note the L suffix to insist that a number is an integer. \n",
    "* No matter how complicated our analyses become, all data in R is interpreted as one of these basic data types.\n",
    "\n",
    "For the next example:\n",
    "* a user has added details fo another cat.\n",
    "* this information is in the file data/feline-data_v2.csv\n",
    "\n"
   ]
  },
  {
   "cell_type": "markdown",
   "metadata": {},
   "source": [
    "### create feline-data_v2.csv text file in RStudio \n",
    "* in file browser view feline-data.csv text file\n",
    "* in menu select text file\n",
    "* copy and paste data from feline-data.csv to new file\n",
    "* save new file as feline-data_v2.csv\n",
    "\n",
    "Load the new cats data like before, and check what type of data we find in the weight column:\n",
    "\n"
   ]
  },
  {
   "cell_type": "code",
   "execution_count": 15,
   "metadata": {
    "collapsed": false
   },
   "outputs": [
    {
     "data": {
      "text/html": [
       "'integer'"
      ],
      "text/latex": [
       "'integer'"
      ],
      "text/markdown": [
       "'integer'"
      ],
      "text/plain": [
       "[1] \"integer\""
      ]
     },
     "metadata": {},
     "output_type": "display_data"
    }
   ],
   "source": [
    "cats  <- read.csv(file=\"~/Desktop/gps_r/feline-data_v2.csv\")\n",
    "typeof(cats$weight)"
   ]
  },
  {
   "cell_type": "markdown",
   "metadata": {},
   "source": [
    "* Oh no, our weights aren’t the double type anymore! \n",
    "\n",
    "* If we try to do the same math we did on them before, we run into trouble:\n"
   ]
  },
  {
   "cell_type": "code",
   "execution_count": 16,
   "metadata": {
    "collapsed": false
   },
   "outputs": [
    {
     "name": "stderr",
     "output_type": "stream",
     "text": [
      "Warning message in Ops.factor(cats$weight, 2):\n",
      "“‘+’ not meaningful for factors”"
     ]
    },
    {
     "data": {
      "text/html": [
       "<ol class=list-inline>\n",
       "\t<li>NA</li>\n",
       "\t<li>NA</li>\n",
       "\t<li>NA</li>\n",
       "\t<li>NA</li>\n",
       "</ol>\n"
      ],
      "text/latex": [
       "\\begin{enumerate*}\n",
       "\\item NA\n",
       "\\item NA\n",
       "\\item NA\n",
       "\\item NA\n",
       "\\end{enumerate*}\n"
      ],
      "text/markdown": [
       "1. NA\n",
       "2. NA\n",
       "3. NA\n",
       "4. NA\n",
       "\n",
       "\n"
      ],
      "text/plain": [
       "[1] NA NA NA NA"
      ]
     },
     "metadata": {},
     "output_type": "display_data"
    }
   ],
   "source": [
    "cats$weight + 2"
   ]
  },
  {
   "cell_type": "markdown",
   "metadata": {},
   "source": [
    "### what happened?\n",
    "\n",
    "* R reads a csv into a table, it insists that everything in a column be the same basic type\n",
    "\n",
    "* if it can’t understand everything in the column as a double, then nobody in the column gets to be a double\n",
    "\n",
    "* the table that R loaded our cats data into is called a data.frame and our first example of something called a data structure\n",
    "\n",
    "* a data structure is a structure that R knows how to build out of basic data types.\n",
    "\n",
    "* we can see that it is a data.frame by calling the class function on it:"
   ]
  },
  {
   "cell_type": "code",
   "execution_count": 17,
   "metadata": {
    "collapsed": false
   },
   "outputs": [
    {
     "data": {
      "text/html": [
       "'data.frame'"
      ],
      "text/latex": [
       "'data.frame'"
      ],
      "text/markdown": [
       "'data.frame'"
      ],
      "text/plain": [
       "[1] \"data.frame\""
      ]
     },
     "metadata": {},
     "output_type": "display_data"
    }
   ],
   "source": [
    "class(cats)"
   ]
  },
  {
   "cell_type": "markdown",
   "metadata": {},
   "source": [
    "Now, in order to successfully use our data in R, we need to understand what the basic data structures are, and how they behave. \n",
    "\n",
    "For now, let’s remove that extra line from our cats data and reload it, while we investigate this behavior further:"
   ]
  },
  {
   "cell_type": "markdown",
   "metadata": {},
   "source": [
    "in RStudio reload the feline-data.csv"
   ]
  },
  {
   "cell_type": "code",
   "execution_count": 18,
   "metadata": {
    "collapsed": true
   },
   "outputs": [],
   "source": [
    "cats  <- read.csv(file=\"~/Desktop/gps_r/feline-data.csv\")"
   ]
  },
  {
   "cell_type": "markdown",
   "metadata": {},
   "source": [
    "# Vectors and Type Coercion"
   ]
  },
  {
   "cell_type": "markdown",
   "metadata": {},
   "source": [
    "To better understand this behavior, let’s meet another of the data structures: the vector."
   ]
  },
  {
   "cell_type": "code",
   "execution_count": 19,
   "metadata": {
    "collapsed": false
   },
   "outputs": [
    {
     "data": {
      "text/html": [
       "<ol class=list-inline>\n",
       "\t<li>FALSE</li>\n",
       "\t<li>FALSE</li>\n",
       "\t<li>FALSE</li>\n",
       "</ol>\n"
      ],
      "text/latex": [
       "\\begin{enumerate*}\n",
       "\\item FALSE\n",
       "\\item FALSE\n",
       "\\item FALSE\n",
       "\\end{enumerate*}\n"
      ],
      "text/markdown": [
       "1. FALSE\n",
       "2. FALSE\n",
       "3. FALSE\n",
       "\n",
       "\n"
      ],
      "text/plain": [
       "[1] FALSE FALSE FALSE"
      ]
     },
     "metadata": {},
     "output_type": "display_data"
    }
   ],
   "source": [
    "my_vector <- vector(length = 3)\n",
    "my_vector"
   ]
  },
  {
   "cell_type": "markdown",
   "metadata": {},
   "source": [
    "A vector in R is essentially an ordered list of things, with the special condition:\n",
    "* that everything in the vector must be the same basic data type. \n",
    "\n",
    "* If you don’t choose the datatype, it’ll default to logical; or, you can declare an empty vector of whatever type you like."
   ]
  },
  {
   "cell_type": "code",
   "execution_count": 20,
   "metadata": {
    "collapsed": false
   },
   "outputs": [
    {
     "data": {
      "text/html": [
       "<ol class=list-inline>\n",
       "\t<li>''</li>\n",
       "\t<li>''</li>\n",
       "\t<li>''</li>\n",
       "</ol>\n"
      ],
      "text/latex": [
       "\\begin{enumerate*}\n",
       "\\item ''\n",
       "\\item ''\n",
       "\\item ''\n",
       "\\end{enumerate*}\n"
      ],
      "text/markdown": [
       "1. ''\n",
       "2. ''\n",
       "3. ''\n",
       "\n",
       "\n"
      ],
      "text/plain": [
       "[1] \"\" \"\" \"\""
      ]
     },
     "metadata": {},
     "output_type": "display_data"
    }
   ],
   "source": [
    "another_vector <- vector(mode='character', length=3)\n",
    "another_vector"
   ]
  },
  {
   "cell_type": "markdown",
   "metadata": {},
   "source": [
    "You can check if something is a vector:"
   ]
  },
  {
   "cell_type": "code",
   "execution_count": 22,
   "metadata": {
    "collapsed": false
   },
   "outputs": [
    {
     "name": "stdout",
     "output_type": "stream",
     "text": [
      " chr [1:3] \"\" \"\" \"\"\n"
     ]
    }
   ],
   "source": [
    "str(another_vector)"
   ]
  },
  {
   "cell_type": "markdown",
   "metadata": {},
   "source": [
    "The cryptic output from this command indicates the basic data type found in this vector - \n",
    "* in this case chr, character; \n",
    "* an indication of the number of things in the vector - actually, the indexes of the vector, in this case [1:3]; \n",
    "* and a few examples of what’s actually in the vector - in this case empty character strings. \n",
    "\n",
    "If we similarly do:"
   ]
  },
  {
   "cell_type": "code",
   "execution_count": 23,
   "metadata": {
    "collapsed": false
   },
   "outputs": [
    {
     "name": "stdout",
     "output_type": "stream",
     "text": [
      " num [1:3] 2.1 5 3.2\n"
     ]
    }
   ],
   "source": [
    "str(cats$weight)"
   ]
  },
  {
   "cell_type": "markdown",
   "metadata": {},
   "source": [
    "we see that that’s a vector, too - the columns of data we load into R data.frames are all vectors, \n",
    "\n",
    "* and that’s the root of why R forces everything in a column to be the same basic data type."
   ]
  },
  {
   "cell_type": "markdown",
   "metadata": {},
   "source": [
    "## Discussion 1"
   ]
  },
  {
   "cell_type": "markdown",
   "metadata": {},
   "source": [
    "### Why is R so opinionated about what we put in our columns of data? How does this help us?"
   ]
  },
  {
   "cell_type": "markdown",
   "metadata": {},
   "source": [
    "#### By keeping everything in a column the same, we allow ourselves to make simple assumptions about our data; \n",
    "\n",
    "* if you can interpret one entry in the column as a number, then you can interpret all of them as numbers, so we don’t have to check every time.\n",
    "\n",
    "* This consistency, like consistently using the same separator in our data files, is what people mean when they talk about clean data; in the long run, strict consistency goes a long way to making our lives easier in R"
   ]
  },
  {
   "cell_type": "markdown",
   "metadata": {},
   "source": [
    "You can also make vectors with explicit contents with the combine function:"
   ]
  },
  {
   "cell_type": "code",
   "execution_count": 24,
   "metadata": {
    "collapsed": false
   },
   "outputs": [
    {
     "data": {
      "text/html": [
       "<ol class=list-inline>\n",
       "\t<li>2</li>\n",
       "\t<li>6</li>\n",
       "\t<li>3</li>\n",
       "</ol>\n"
      ],
      "text/latex": [
       "\\begin{enumerate*}\n",
       "\\item 2\n",
       "\\item 6\n",
       "\\item 3\n",
       "\\end{enumerate*}\n"
      ],
      "text/markdown": [
       "1. 2\n",
       "2. 6\n",
       "3. 3\n",
       "\n",
       "\n"
      ],
      "text/plain": [
       "[1] 2 6 3"
      ]
     },
     "metadata": {},
     "output_type": "display_data"
    }
   ],
   "source": [
    "combine_vector <- c(2,6,3)\n",
    "combine_vector"
   ]
  },
  {
   "cell_type": "markdown",
   "metadata": {},
   "source": [
    "Thinking about what we have covered so far, what do you thing the following will produce?"
   ]
  },
  {
   "cell_type": "code",
   "execution_count": 25,
   "metadata": {
    "collapsed": true
   },
   "outputs": [],
   "source": [
    "quiz_vector <- c(2,6,'3')"
   ]
  },
  {
   "cell_type": "code",
   "execution_count": 26,
   "metadata": {
    "collapsed": false
   },
   "outputs": [
    {
     "name": "stdout",
     "output_type": "stream",
     "text": [
      " chr [1:3] \"2\" \"6\" \"3\"\n"
     ]
    }
   ],
   "source": [
    "str(quiz_vector)"
   ]
  },
  {
   "cell_type": "markdown",
   "metadata": {},
   "source": [
    "* This is something called type coercion, and it is the source of many surprises and the reason why we need to be aware of the basic data types and how R will interpret them. \n",
    "\n",
    "* When R encounters a mix of types (here numeric and character) to be combined into a single vector, it will force them all to be the same type. \n",
    "\n",
    "Now Consider these examples:"
   ]
  },
  {
   "cell_type": "code",
   "execution_count": 28,
   "metadata": {
    "collapsed": false
   },
   "outputs": [
    {
     "data": {
      "text/html": [
       "<ol class=list-inline>\n",
       "\t<li>'a'</li>\n",
       "\t<li>'TRUE'</li>\n",
       "</ol>\n"
      ],
      "text/latex": [
       "\\begin{enumerate*}\n",
       "\\item 'a'\n",
       "\\item 'TRUE'\n",
       "\\end{enumerate*}\n"
      ],
      "text/markdown": [
       "1. 'a'\n",
       "2. 'TRUE'\n",
       "\n",
       "\n"
      ],
      "text/plain": [
       "[1] \"a\"    \"TRUE\""
      ]
     },
     "metadata": {},
     "output_type": "display_data"
    }
   ],
   "source": [
    "coercion_vector <- c('a', TRUE)\n",
    "coercion_vector\n"
   ]
  },
  {
   "cell_type": "code",
   "execution_count": 29,
   "metadata": {
    "collapsed": false
   },
   "outputs": [
    {
     "data": {
      "text/html": [
       "<ol class=list-inline>\n",
       "\t<li>0</li>\n",
       "\t<li>1</li>\n",
       "</ol>\n"
      ],
      "text/latex": [
       "\\begin{enumerate*}\n",
       "\\item 0\n",
       "\\item 1\n",
       "\\end{enumerate*}\n"
      ],
      "text/markdown": [
       "1. 0\n",
       "2. 1\n",
       "\n",
       "\n"
      ],
      "text/plain": [
       "[1] 0 1"
      ]
     },
     "metadata": {},
     "output_type": "display_data"
    }
   ],
   "source": [
    "another_coercion_vector <- c(0, TRUE)\n",
    "another_coercion_vector"
   ]
  },
  {
   "cell_type": "markdown",
   "metadata": {},
   "source": [
    "* The coercion rules go: ** logical -> integer -> numeric -> complex -> character, \n",
    "\n",
    "* where -> can be read as and transformed into. \n",
    "\n",
    "\n",
    "* You can try to force coercion against this flow using the **as.** functions:"
   ]
  },
  {
   "cell_type": "code",
   "execution_count": 30,
   "metadata": {
    "collapsed": false
   },
   "outputs": [
    {
     "data": {
      "text/html": [
       "<ol class=list-inline>\n",
       "\t<li>'0'</li>\n",
       "\t<li>'2'</li>\n",
       "\t<li>'4'</li>\n",
       "</ol>\n"
      ],
      "text/latex": [
       "\\begin{enumerate*}\n",
       "\\item '0'\n",
       "\\item '2'\n",
       "\\item '4'\n",
       "\\end{enumerate*}\n"
      ],
      "text/markdown": [
       "1. '0'\n",
       "2. '2'\n",
       "3. '4'\n",
       "\n",
       "\n"
      ],
      "text/plain": [
       "[1] \"0\" \"2\" \"4\""
      ]
     },
     "metadata": {},
     "output_type": "display_data"
    }
   ],
   "source": [
    "character_vector_example <- c('0','2','4')\n",
    "character_vector_example"
   ]
  },
  {
   "cell_type": "code",
   "execution_count": 31,
   "metadata": {
    "collapsed": false
   },
   "outputs": [
    {
     "data": {
      "text/html": [
       "<ol class=list-inline>\n",
       "\t<li>0</li>\n",
       "\t<li>2</li>\n",
       "\t<li>4</li>\n",
       "</ol>\n"
      ],
      "text/latex": [
       "\\begin{enumerate*}\n",
       "\\item 0\n",
       "\\item 2\n",
       "\\item 4\n",
       "\\end{enumerate*}\n"
      ],
      "text/markdown": [
       "1. 0\n",
       "2. 2\n",
       "3. 4\n",
       "\n",
       "\n"
      ],
      "text/plain": [
       "[1] 0 2 4"
      ]
     },
     "metadata": {},
     "output_type": "display_data"
    }
   ],
   "source": [
    "character_coerced_to_numeric <- as.numeric(character_vector_example)\n",
    "character_coerced_to_numeric"
   ]
  },
  {
   "cell_type": "code",
   "execution_count": 32,
   "metadata": {
    "collapsed": false
   },
   "outputs": [
    {
     "data": {
      "text/html": [
       "<ol class=list-inline>\n",
       "\t<li>FALSE</li>\n",
       "\t<li>TRUE</li>\n",
       "\t<li>TRUE</li>\n",
       "</ol>\n"
      ],
      "text/latex": [
       "\\begin{enumerate*}\n",
       "\\item FALSE\n",
       "\\item TRUE\n",
       "\\item TRUE\n",
       "\\end{enumerate*}\n"
      ],
      "text/markdown": [
       "1. FALSE\n",
       "2. TRUE\n",
       "3. TRUE\n",
       "\n",
       "\n"
      ],
      "text/plain": [
       "[1] FALSE  TRUE  TRUE"
      ]
     },
     "metadata": {},
     "output_type": "display_data"
    }
   ],
   "source": [
    "numeric_coerced_to_logical <- as.logical(character_coerced_to_numeric)\n",
    "numeric_coerced_to_logical"
   ]
  },
  {
   "cell_type": "markdown",
   "metadata": {},
   "source": [
    "* As you can see, some surprising things can happen when R forces one basic data type into another! \n",
    "\n",
    "* Nitty-gritty of type coercion aside, the point is: if your data doesn’t look like what you thought it was going to look like, type coercion may well be to blame; \n",
    "\n",
    "* make sure everything is the same type in your vectors and your columns of data.frames, or you will get nasty surprises!\n",
    "\n",
    "* But coercion can also be very useful! \n",
    "\n",
    "* For example, in our cats data **likes_string** is numeric, but we know that the 1s and 0s actually represent **TRUE and FALSE** (a common way of representing them). \n",
    "\n",
    "* We should use the logical datatype here, which has two states: TRUE or FALSE, which is exactly what our data represents. \n",
    "\n",
    "* We can ‘coerce’ this column to be logical by using the **as.logical** function:"
   ]
  },
  {
   "cell_type": "code",
   "execution_count": 33,
   "metadata": {
    "collapsed": false
   },
   "outputs": [
    {
     "data": {
      "text/html": [
       "<ol class=list-inline>\n",
       "\t<li>1</li>\n",
       "\t<li>0</li>\n",
       "\t<li>1</li>\n",
       "</ol>\n"
      ],
      "text/latex": [
       "\\begin{enumerate*}\n",
       "\\item 1\n",
       "\\item 0\n",
       "\\item 1\n",
       "\\end{enumerate*}\n"
      ],
      "text/markdown": [
       "1. 1\n",
       "2. 0\n",
       "3. 1\n",
       "\n",
       "\n"
      ],
      "text/plain": [
       "[1] 1 0 1"
      ]
     },
     "metadata": {},
     "output_type": "display_data"
    }
   ],
   "source": [
    "cats$likes_string\n"
   ]
  },
  {
   "cell_type": "code",
   "execution_count": 34,
   "metadata": {
    "collapsed": false
   },
   "outputs": [
    {
     "data": {
      "text/html": [
       "<ol class=list-inline>\n",
       "\t<li>TRUE</li>\n",
       "\t<li>FALSE</li>\n",
       "\t<li>TRUE</li>\n",
       "</ol>\n"
      ],
      "text/latex": [
       "\\begin{enumerate*}\n",
       "\\item TRUE\n",
       "\\item FALSE\n",
       "\\item TRUE\n",
       "\\end{enumerate*}\n"
      ],
      "text/markdown": [
       "1. TRUE\n",
       "2. FALSE\n",
       "3. TRUE\n",
       "\n",
       "\n"
      ],
      "text/plain": [
       "[1]  TRUE FALSE  TRUE"
      ]
     },
     "metadata": {},
     "output_type": "display_data"
    }
   ],
   "source": [
    "cats$likes_string <- as.logical(cats$likes_string)\n",
    "cats$likes_string\n"
   ]
  },
  {
   "cell_type": "markdown",
   "metadata": {},
   "source": [
    "**Combine c() or concatenate** will also append things to an existing vector:"
   ]
  },
  {
   "cell_type": "code",
   "execution_count": 35,
   "metadata": {
    "collapsed": false
   },
   "outputs": [
    {
     "data": {
      "text/html": [
       "<ol class=list-inline>\n",
       "\t<li>'a'</li>\n",
       "\t<li>'b'</li>\n",
       "</ol>\n"
      ],
      "text/latex": [
       "\\begin{enumerate*}\n",
       "\\item 'a'\n",
       "\\item 'b'\n",
       "\\end{enumerate*}\n"
      ],
      "text/markdown": [
       "1. 'a'\n",
       "2. 'b'\n",
       "\n",
       "\n"
      ],
      "text/plain": [
       "[1] \"a\" \"b\""
      ]
     },
     "metadata": {},
     "output_type": "display_data"
    }
   ],
   "source": [
    "ab_vector <- c('a', 'b')\n",
    "ab_vector"
   ]
  },
  {
   "cell_type": "code",
   "execution_count": 36,
   "metadata": {
    "collapsed": false
   },
   "outputs": [
    {
     "data": {
      "text/html": [
       "<ol class=list-inline>\n",
       "\t<li>'a'</li>\n",
       "\t<li>'b'</li>\n",
       "\t<li>'SWC'</li>\n",
       "</ol>\n"
      ],
      "text/latex": [
       "\\begin{enumerate*}\n",
       "\\item 'a'\n",
       "\\item 'b'\n",
       "\\item 'SWC'\n",
       "\\end{enumerate*}\n"
      ],
      "text/markdown": [
       "1. 'a'\n",
       "2. 'b'\n",
       "3. 'SWC'\n",
       "\n",
       "\n"
      ],
      "text/plain": [
       "[1] \"a\"   \"b\"   \"SWC\""
      ]
     },
     "metadata": {},
     "output_type": "display_data"
    }
   ],
   "source": [
    "combine_example <- c(ab_vector, 'SWC')\n",
    "combine_example"
   ]
  },
  {
   "cell_type": "markdown",
   "metadata": {},
   "source": [
    "You can also make series of numbers:"
   ]
  },
  {
   "cell_type": "code",
   "execution_count": 37,
   "metadata": {
    "collapsed": false
   },
   "outputs": [
    {
     "data": {
      "text/html": [
       "<ol class=list-inline>\n",
       "\t<li>1</li>\n",
       "\t<li>2</li>\n",
       "\t<li>3</li>\n",
       "\t<li>4</li>\n",
       "\t<li>5</li>\n",
       "\t<li>6</li>\n",
       "\t<li>7</li>\n",
       "\t<li>8</li>\n",
       "\t<li>9</li>\n",
       "\t<li>10</li>\n",
       "</ol>\n"
      ],
      "text/latex": [
       "\\begin{enumerate*}\n",
       "\\item 1\n",
       "\\item 2\n",
       "\\item 3\n",
       "\\item 4\n",
       "\\item 5\n",
       "\\item 6\n",
       "\\item 7\n",
       "\\item 8\n",
       "\\item 9\n",
       "\\item 10\n",
       "\\end{enumerate*}\n"
      ],
      "text/markdown": [
       "1. 1\n",
       "2. 2\n",
       "3. 3\n",
       "4. 4\n",
       "5. 5\n",
       "6. 6\n",
       "7. 7\n",
       "8. 8\n",
       "9. 9\n",
       "10. 10\n",
       "\n",
       "\n"
      ],
      "text/plain": [
       " [1]  1  2  3  4  5  6  7  8  9 10"
      ]
     },
     "metadata": {},
     "output_type": "display_data"
    }
   ],
   "source": [
    "mySeries <- 1:10\n",
    "mySeries"
   ]
  },
  {
   "cell_type": "code",
   "execution_count": 38,
   "metadata": {
    "collapsed": false
   },
   "outputs": [
    {
     "data": {
      "text/html": [
       "<ol class=list-inline>\n",
       "\t<li>1</li>\n",
       "\t<li>2</li>\n",
       "\t<li>3</li>\n",
       "\t<li>4</li>\n",
       "\t<li>5</li>\n",
       "\t<li>6</li>\n",
       "\t<li>7</li>\n",
       "\t<li>8</li>\n",
       "\t<li>9</li>\n",
       "\t<li>10</li>\n",
       "</ol>\n"
      ],
      "text/latex": [
       "\\begin{enumerate*}\n",
       "\\item 1\n",
       "\\item 2\n",
       "\\item 3\n",
       "\\item 4\n",
       "\\item 5\n",
       "\\item 6\n",
       "\\item 7\n",
       "\\item 8\n",
       "\\item 9\n",
       "\\item 10\n",
       "\\end{enumerate*}\n"
      ],
      "text/markdown": [
       "1. 1\n",
       "2. 2\n",
       "3. 3\n",
       "4. 4\n",
       "5. 5\n",
       "6. 6\n",
       "7. 7\n",
       "8. 8\n",
       "9. 9\n",
       "10. 10\n",
       "\n",
       "\n"
      ],
      "text/plain": [
       " [1]  1  2  3  4  5  6  7  8  9 10"
      ]
     },
     "metadata": {},
     "output_type": "display_data"
    }
   ],
   "source": [
    "seq(10)"
   ]
  },
  {
   "cell_type": "code",
   "execution_count": 40,
   "metadata": {
    "collapsed": false
   },
   "outputs": [
    {
     "data": {
      "text/html": [
       "<ol class=list-inline>\n",
       "\t<li>1</li>\n",
       "\t<li>1.1</li>\n",
       "\t<li>1.2</li>\n",
       "\t<li>1.3</li>\n",
       "\t<li>1.4</li>\n",
       "\t<li>1.5</li>\n",
       "\t<li>1.6</li>\n",
       "\t<li>1.7</li>\n",
       "\t<li>1.8</li>\n",
       "\t<li>1.9</li>\n",
       "\t<li>2</li>\n",
       "\t<li>2.1</li>\n",
       "\t<li>2.2</li>\n",
       "\t<li>2.3</li>\n",
       "\t<li>2.4</li>\n",
       "\t<li>2.5</li>\n",
       "\t<li>2.6</li>\n",
       "\t<li>2.7</li>\n",
       "\t<li>2.8</li>\n",
       "\t<li>2.9</li>\n",
       "\t<li>3</li>\n",
       "\t<li>3.1</li>\n",
       "\t<li>3.2</li>\n",
       "\t<li>3.3</li>\n",
       "\t<li>3.4</li>\n",
       "\t<li>3.5</li>\n",
       "\t<li>3.6</li>\n",
       "\t<li>3.7</li>\n",
       "\t<li>3.8</li>\n",
       "\t<li>3.9</li>\n",
       "\t<li>4</li>\n",
       "\t<li>4.1</li>\n",
       "\t<li>4.2</li>\n",
       "\t<li>4.3</li>\n",
       "\t<li>4.4</li>\n",
       "\t<li>4.5</li>\n",
       "\t<li>4.6</li>\n",
       "\t<li>4.7</li>\n",
       "\t<li>4.8</li>\n",
       "\t<li>4.9</li>\n",
       "\t<li>5</li>\n",
       "\t<li>5.1</li>\n",
       "\t<li>5.2</li>\n",
       "\t<li>5.3</li>\n",
       "\t<li>5.4</li>\n",
       "\t<li>5.5</li>\n",
       "\t<li>5.6</li>\n",
       "\t<li>5.7</li>\n",
       "\t<li>5.8</li>\n",
       "\t<li>5.9</li>\n",
       "\t<li>6</li>\n",
       "\t<li>6.1</li>\n",
       "\t<li>6.2</li>\n",
       "\t<li>6.3</li>\n",
       "\t<li>6.4</li>\n",
       "\t<li>6.5</li>\n",
       "\t<li>6.6</li>\n",
       "\t<li>6.7</li>\n",
       "\t<li>6.8</li>\n",
       "\t<li>6.9</li>\n",
       "\t<li>7</li>\n",
       "\t<li>7.1</li>\n",
       "\t<li>7.2</li>\n",
       "\t<li>7.3</li>\n",
       "\t<li>7.4</li>\n",
       "\t<li>7.5</li>\n",
       "\t<li>7.6</li>\n",
       "\t<li>7.7</li>\n",
       "\t<li>7.8</li>\n",
       "\t<li>7.9</li>\n",
       "\t<li>8</li>\n",
       "\t<li>8.1</li>\n",
       "\t<li>8.2</li>\n",
       "\t<li>8.3</li>\n",
       "\t<li>8.4</li>\n",
       "\t<li>8.5</li>\n",
       "\t<li>8.6</li>\n",
       "\t<li>8.7</li>\n",
       "\t<li>8.8</li>\n",
       "\t<li>8.9</li>\n",
       "\t<li>9</li>\n",
       "\t<li>9.1</li>\n",
       "\t<li>9.2</li>\n",
       "\t<li>9.3</li>\n",
       "\t<li>9.4</li>\n",
       "\t<li>9.5</li>\n",
       "\t<li>9.6</li>\n",
       "\t<li>9.7</li>\n",
       "\t<li>9.8</li>\n",
       "\t<li>9.9</li>\n",
       "\t<li>10</li>\n",
       "</ol>\n"
      ],
      "text/latex": [
       "\\begin{enumerate*}\n",
       "\\item 1\n",
       "\\item 1.1\n",
       "\\item 1.2\n",
       "\\item 1.3\n",
       "\\item 1.4\n",
       "\\item 1.5\n",
       "\\item 1.6\n",
       "\\item 1.7\n",
       "\\item 1.8\n",
       "\\item 1.9\n",
       "\\item 2\n",
       "\\item 2.1\n",
       "\\item 2.2\n",
       "\\item 2.3\n",
       "\\item 2.4\n",
       "\\item 2.5\n",
       "\\item 2.6\n",
       "\\item 2.7\n",
       "\\item 2.8\n",
       "\\item 2.9\n",
       "\\item 3\n",
       "\\item 3.1\n",
       "\\item 3.2\n",
       "\\item 3.3\n",
       "\\item 3.4\n",
       "\\item 3.5\n",
       "\\item 3.6\n",
       "\\item 3.7\n",
       "\\item 3.8\n",
       "\\item 3.9\n",
       "\\item 4\n",
       "\\item 4.1\n",
       "\\item 4.2\n",
       "\\item 4.3\n",
       "\\item 4.4\n",
       "\\item 4.5\n",
       "\\item 4.6\n",
       "\\item 4.7\n",
       "\\item 4.8\n",
       "\\item 4.9\n",
       "\\item 5\n",
       "\\item 5.1\n",
       "\\item 5.2\n",
       "\\item 5.3\n",
       "\\item 5.4\n",
       "\\item 5.5\n",
       "\\item 5.6\n",
       "\\item 5.7\n",
       "\\item 5.8\n",
       "\\item 5.9\n",
       "\\item 6\n",
       "\\item 6.1\n",
       "\\item 6.2\n",
       "\\item 6.3\n",
       "\\item 6.4\n",
       "\\item 6.5\n",
       "\\item 6.6\n",
       "\\item 6.7\n",
       "\\item 6.8\n",
       "\\item 6.9\n",
       "\\item 7\n",
       "\\item 7.1\n",
       "\\item 7.2\n",
       "\\item 7.3\n",
       "\\item 7.4\n",
       "\\item 7.5\n",
       "\\item 7.6\n",
       "\\item 7.7\n",
       "\\item 7.8\n",
       "\\item 7.9\n",
       "\\item 8\n",
       "\\item 8.1\n",
       "\\item 8.2\n",
       "\\item 8.3\n",
       "\\item 8.4\n",
       "\\item 8.5\n",
       "\\item 8.6\n",
       "\\item 8.7\n",
       "\\item 8.8\n",
       "\\item 8.9\n",
       "\\item 9\n",
       "\\item 9.1\n",
       "\\item 9.2\n",
       "\\item 9.3\n",
       "\\item 9.4\n",
       "\\item 9.5\n",
       "\\item 9.6\n",
       "\\item 9.7\n",
       "\\item 9.8\n",
       "\\item 9.9\n",
       "\\item 10\n",
       "\\end{enumerate*}\n"
      ],
      "text/markdown": [
       "1. 1\n",
       "2. 1.1\n",
       "3. 1.2\n",
       "4. 1.3\n",
       "5. 1.4\n",
       "6. 1.5\n",
       "7. 1.6\n",
       "8. 1.7\n",
       "9. 1.8\n",
       "10. 1.9\n",
       "11. 2\n",
       "12. 2.1\n",
       "13. 2.2\n",
       "14. 2.3\n",
       "15. 2.4\n",
       "16. 2.5\n",
       "17. 2.6\n",
       "18. 2.7\n",
       "19. 2.8\n",
       "20. 2.9\n",
       "21. 3\n",
       "22. 3.1\n",
       "23. 3.2\n",
       "24. 3.3\n",
       "25. 3.4\n",
       "26. 3.5\n",
       "27. 3.6\n",
       "28. 3.7\n",
       "29. 3.8\n",
       "30. 3.9\n",
       "31. 4\n",
       "32. 4.1\n",
       "33. 4.2\n",
       "34. 4.3\n",
       "35. 4.4\n",
       "36. 4.5\n",
       "37. 4.6\n",
       "38. 4.7\n",
       "39. 4.8\n",
       "40. 4.9\n",
       "41. 5\n",
       "42. 5.1\n",
       "43. 5.2\n",
       "44. 5.3\n",
       "45. 5.4\n",
       "46. 5.5\n",
       "47. 5.6\n",
       "48. 5.7\n",
       "49. 5.8\n",
       "50. 5.9\n",
       "51. 6\n",
       "52. 6.1\n",
       "53. 6.2\n",
       "54. 6.3\n",
       "55. 6.4\n",
       "56. 6.5\n",
       "57. 6.6\n",
       "58. 6.7\n",
       "59. 6.8\n",
       "60. 6.9\n",
       "61. 7\n",
       "62. 7.1\n",
       "63. 7.2\n",
       "64. 7.3\n",
       "65. 7.4\n",
       "66. 7.5\n",
       "67. 7.6\n",
       "68. 7.7\n",
       "69. 7.8\n",
       "70. 7.9\n",
       "71. 8\n",
       "72. 8.1\n",
       "73. 8.2\n",
       "74. 8.3\n",
       "75. 8.4\n",
       "76. 8.5\n",
       "77. 8.6\n",
       "78. 8.7\n",
       "79. 8.8\n",
       "80. 8.9\n",
       "81. 9\n",
       "82. 9.1\n",
       "83. 9.2\n",
       "84. 9.3\n",
       "85. 9.4\n",
       "86. 9.5\n",
       "87. 9.6\n",
       "88. 9.7\n",
       "89. 9.8\n",
       "90. 9.9\n",
       "91. 10\n",
       "\n",
       "\n"
      ],
      "text/plain": [
       " [1]  1.0  1.1  1.2  1.3  1.4  1.5  1.6  1.7  1.8  1.9  2.0  2.1  2.2  2.3  2.4\n",
       "[16]  2.5  2.6  2.7  2.8  2.9  3.0  3.1  3.2  3.3  3.4  3.5  3.6  3.7  3.8  3.9\n",
       "[31]  4.0  4.1  4.2  4.3  4.4  4.5  4.6  4.7  4.8  4.9  5.0  5.1  5.2  5.3  5.4\n",
       "[46]  5.5  5.6  5.7  5.8  5.9  6.0  6.1  6.2  6.3  6.4  6.5  6.6  6.7  6.8  6.9\n",
       "[61]  7.0  7.1  7.2  7.3  7.4  7.5  7.6  7.7  7.8  7.9  8.0  8.1  8.2  8.3  8.4\n",
       "[76]  8.5  8.6  8.7  8.8  8.9  9.0  9.1  9.2  9.3  9.4  9.5  9.6  9.7  9.8  9.9\n",
       "[91] 10.0"
      ]
     },
     "metadata": {},
     "output_type": "display_data"
    }
   ],
   "source": [
    "seq(1,10, by=0.1)"
   ]
  },
  {
   "cell_type": "code",
   "execution_count": null,
   "metadata": {
    "collapsed": true
   },
   "outputs": [],
   "source": []
  },
  {
   "cell_type": "code",
   "execution_count": null,
   "metadata": {
    "collapsed": true
   },
   "outputs": [],
   "source": []
  },
  {
   "cell_type": "code",
   "execution_count": null,
   "metadata": {
    "collapsed": true
   },
   "outputs": [],
   "source": []
  },
  {
   "cell_type": "code",
   "execution_count": null,
   "metadata": {
    "collapsed": true
   },
   "outputs": [],
   "source": []
  },
  {
   "cell_type": "code",
   "execution_count": null,
   "metadata": {
    "collapsed": true
   },
   "outputs": [],
   "source": []
  },
  {
   "cell_type": "code",
   "execution_count": null,
   "metadata": {
    "collapsed": true
   },
   "outputs": [],
   "source": []
  },
  {
   "cell_type": "code",
   "execution_count": null,
   "metadata": {
    "collapsed": true
   },
   "outputs": [],
   "source": []
  },
  {
   "cell_type": "code",
   "execution_count": null,
   "metadata": {
    "collapsed": true
   },
   "outputs": [],
   "source": []
  },
  {
   "cell_type": "code",
   "execution_count": null,
   "metadata": {
    "collapsed": true
   },
   "outputs": [],
   "source": []
  },
  {
   "cell_type": "code",
   "execution_count": null,
   "metadata": {
    "collapsed": true
   },
   "outputs": [],
   "source": []
  },
  {
   "cell_type": "code",
   "execution_count": null,
   "metadata": {
    "collapsed": true
   },
   "outputs": [],
   "source": []
  },
  {
   "cell_type": "code",
   "execution_count": null,
   "metadata": {
    "collapsed": true
   },
   "outputs": [],
   "source": []
  },
  {
   "cell_type": "code",
   "execution_count": null,
   "metadata": {
    "collapsed": true
   },
   "outputs": [],
   "source": []
  },
  {
   "cell_type": "code",
   "execution_count": null,
   "metadata": {
    "collapsed": true
   },
   "outputs": [],
   "source": []
  },
  {
   "cell_type": "code",
   "execution_count": null,
   "metadata": {
    "collapsed": true
   },
   "outputs": [],
   "source": []
  },
  {
   "cell_type": "code",
   "execution_count": null,
   "metadata": {
    "collapsed": true
   },
   "outputs": [],
   "source": []
  },
  {
   "cell_type": "code",
   "execution_count": null,
   "metadata": {
    "collapsed": true
   },
   "outputs": [],
   "source": []
  },
  {
   "cell_type": "code",
   "execution_count": null,
   "metadata": {
    "collapsed": true
   },
   "outputs": [],
   "source": []
  },
  {
   "cell_type": "code",
   "execution_count": null,
   "metadata": {
    "collapsed": true
   },
   "outputs": [],
   "source": []
  },
  {
   "cell_type": "code",
   "execution_count": null,
   "metadata": {
    "collapsed": true
   },
   "outputs": [],
   "source": []
  },
  {
   "cell_type": "code",
   "execution_count": null,
   "metadata": {
    "collapsed": true
   },
   "outputs": [],
   "source": []
  },
  {
   "cell_type": "code",
   "execution_count": null,
   "metadata": {
    "collapsed": true
   },
   "outputs": [],
   "source": []
  },
  {
   "cell_type": "code",
   "execution_count": null,
   "metadata": {
    "collapsed": true
   },
   "outputs": [],
   "source": []
  }
 ],
 "metadata": {
  "kernelspec": {
   "display_name": "R",
   "language": "R",
   "name": "ir"
  },
  "language_info": {
   "codemirror_mode": "r",
   "file_extension": ".r",
   "mimetype": "text/x-r-source",
   "name": "R",
   "pygments_lexer": "r",
   "version": "3.3.1"
  }
 },
 "nbformat": 4,
 "nbformat_minor": 0
}
