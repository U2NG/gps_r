{
 "cells": [
  {
   "cell_type": "markdown",
   "metadata": {},
   "source": [
    "# Data Structures Lesson Notes"
   ]
  },
  {
   "cell_type": "markdown",
   "metadata": {},
   "source": [
    "Teaching: 40 min\n",
    "\n",
    "Exercises: 15 min\n",
    "\n",
    "Questions\n",
    "* How can I read data in R?\n",
    "* What are the basic data types in R?\n",
    "* How do I represent categorical information in R?\n",
    "\n",
    "Objectives\n",
    "* To be aware of the different types of data.\n",
    "* To begin exploring data frames, and understand how it’s related to * vectors, factors and lists.\n",
    "* To be able to ask questions from R about the type, class, and structure of an object."
   ]
  },
  {
   "cell_type": "markdown",
   "metadata": {},
   "source": [
    "## Begin Lesson here"
   ]
  },
  {
   "cell_type": "markdown",
   "metadata": {},
   "source": [
    "* One of R’s most powerful features is its ability to deal with tabular data\n",
    "\n",
    "\n"
   ]
  },
  {
   "cell_type": "markdown",
   "metadata": {},
   "source": [
    "* start by making a toy dataset in your data/ directory, called feline-data.csv:"
   ]
  },
  {
   "cell_type": "markdown",
   "metadata": {},
   "source": [
    "create data/feline-data.csv using:\n",
    "* a text editor (Nano) or \n",
    "* within RStudio with the File -> New File -> Text File menu item."
   ]
  },
  {
   "cell_type": "markdown",
   "metadata": {},
   "source": [
    "add the following data to the file:"
   ]
  },
  {
   "cell_type": "code",
   "execution_count": null,
   "metadata": {
    "collapsed": true
   },
   "outputs": [],
   "source": [
    "coat,weight,likes_string\n",
    "calico,2.1,1\n",
    "black,5.0,0\n",
    "tabby,3.2,1"
   ]
  },
  {
   "cell_type": "markdown",
   "metadata": {},
   "source": [
    "### make sure the data file is saved in the home/data folder"
   ]
  },
  {
   "cell_type": "code",
   "execution_count": 1,
   "metadata": {
    "collapsed": true
   },
   "outputs": [],
   "source": [
    "cats  <- read.csv(file = \"~/Desktop/gps_r/feline-data.csv\")"
   ]
  },
  {
   "cell_type": "code",
   "execution_count": 2,
   "metadata": {
    "collapsed": false
   },
   "outputs": [
    {
     "data": {
      "text/html": [
       "<table>\n",
       "<thead><tr><th></th><th scope=col>coat</th><th scope=col>weight</th><th scope=col>likes_string</th></tr></thead>\n",
       "<tbody>\n",
       "\t<tr><th scope=row>1</th><td>calico</td><td>2.1   </td><td>1     </td></tr>\n",
       "\t<tr><th scope=row>2</th><td>black</td><td>5    </td><td>0    </td></tr>\n",
       "\t<tr><th scope=row>3</th><td>tabby</td><td>3.2  </td><td>1    </td></tr>\n",
       "</tbody>\n",
       "</table>\n"
      ],
      "text/latex": [
       "\\begin{tabular}{r|lll}\n",
       "  & coat & weight & likes\\_string\\\\\n",
       "\\hline\n",
       "\t1 & calico & 2.1    & 1     \\\\\n",
       "\t2 & black & 5     & 0    \\\\\n",
       "\t3 & tabby & 3.2   & 1    \\\\\n",
       "\\end{tabular}\n"
      ],
      "text/plain": [
       "    coat weight likes_string\n",
       "1 calico    2.1            1\n",
       "2  black    5.0            0\n",
       "3  tabby    3.2            1"
      ]
     },
     "metadata": {},
     "output_type": "display_data"
    }
   ],
   "source": [
    "cats"
   ]
  },
  {
   "cell_type": "markdown",
   "metadata": {},
   "source": [
    "* he read.csv function is used for reading in tabular data stored in a text file where the columns of data are delimited by commas (csv = comma separated values). \n",
    "\n",
    "* Tabs are also commonly used to separated columns - if your data are in this format you can use the function read.delim.\n",
    "\n",
    "* There is also the general read.table function that is used if the columns in your data are delimited by a character other that commas or tabs. "
   ]
  },
  {
   "cell_type": "markdown",
   "metadata": {},
   "source": [
    "With data loaded, we can now explore our data set, pull out columns and specify the musing the $ operator:"
   ]
  },
  {
   "cell_type": "code",
   "execution_count": 3,
   "metadata": {
    "collapsed": false
   },
   "outputs": [
    {
     "data": {
      "text/html": [
       "<ol class=list-inline>\n",
       "\t<li>2.1</li>\n",
       "\t<li>5</li>\n",
       "\t<li>3.2</li>\n",
       "</ol>\n"
      ],
      "text/latex": [
       "\\begin{enumerate*}\n",
       "\\item 2.1\n",
       "\\item 5\n",
       "\\item 3.2\n",
       "\\end{enumerate*}\n"
      ],
      "text/markdown": [
       "1. 2.1\n",
       "2. 5\n",
       "3. 3.2\n",
       "\n",
       "\n"
      ],
      "text/plain": [
       "[1] 2.1 5.0 3.2"
      ]
     },
     "metadata": {},
     "output_type": "display_data"
    }
   ],
   "source": [
    "cats$weight"
   ]
  },
  {
   "cell_type": "code",
   "execution_count": 5,
   "metadata": {
    "collapsed": false
   },
   "outputs": [
    {
     "data": {
      "text/html": [
       "<ol class=list-inline>\n",
       "\t<li>calico</li>\n",
       "\t<li>black</li>\n",
       "\t<li>tabby</li>\n",
       "</ol>\n"
      ],
      "text/latex": [
       "\\begin{enumerate*}\n",
       "\\item calico\n",
       "\\item black\n",
       "\\item tabby\n",
       "\\end{enumerate*}\n"
      ],
      "text/markdown": [
       "1. calico\n",
       "2. black\n",
       "3. tabby\n",
       "\n",
       "\n"
      ],
      "text/plain": [
       "[1] calico black  tabby \n",
       "Levels: black calico tabby"
      ]
     },
     "metadata": {},
     "output_type": "display_data"
    }
   ],
   "source": [
    "cats$coat"
   ]
  },
  {
   "cell_type": "markdown",
   "metadata": {},
   "source": [
    "We can do other operations on the columns:"
   ]
  },
  {
   "cell_type": "code",
   "execution_count": 6,
   "metadata": {
    "collapsed": false
   },
   "outputs": [
    {
     "data": {
      "text/html": [
       "<ol class=list-inline>\n",
       "\t<li>4.1</li>\n",
       "\t<li>7</li>\n",
       "\t<li>5.2</li>\n",
       "</ol>\n"
      ],
      "text/latex": [
       "\\begin{enumerate*}\n",
       "\\item 4.1\n",
       "\\item 7\n",
       "\\item 5.2\n",
       "\\end{enumerate*}\n"
      ],
      "text/markdown": [
       "1. 4.1\n",
       "2. 7\n",
       "3. 5.2\n",
       "\n",
       "\n"
      ],
      "text/plain": [
       "[1] 4.1 7.0 5.2"
      ]
     },
     "metadata": {},
     "output_type": "display_data"
    }
   ],
   "source": [
    "## say we discovered that the scale weights two Kg light:\n",
    "cats$weight + 2"
   ]
  },
  {
   "cell_type": "code",
   "execution_count": 7,
   "metadata": {
    "collapsed": false
   },
   "outputs": [
    {
     "data": {
      "text/html": [
       "<ol class=list-inline>\n",
       "\t<li>'my cat is calico'</li>\n",
       "\t<li>'my cat is black'</li>\n",
       "\t<li>'my cat is tabby'</li>\n",
       "</ol>\n"
      ],
      "text/latex": [
       "\\begin{enumerate*}\n",
       "\\item 'my cat is calico'\n",
       "\\item 'my cat is black'\n",
       "\\item 'my cat is tabby'\n",
       "\\end{enumerate*}\n"
      ],
      "text/markdown": [
       "1. 'my cat is calico'\n",
       "2. 'my cat is black'\n",
       "3. 'my cat is tabby'\n",
       "\n",
       "\n"
      ],
      "text/plain": [
       "[1] \"my cat is calico\" \"my cat is black\"  \"my cat is tabby\" "
      ]
     },
     "metadata": {},
     "output_type": "display_data"
    }
   ],
   "source": [
    "paste(\"my cat is\", cats$coat)"
   ]
  },
  {
   "cell_type": "markdown",
   "metadata": {},
   "source": [
    "But what about if we type this:"
   ]
  },
  {
   "cell_type": "code",
   "execution_count": 8,
   "metadata": {
    "collapsed": false
   },
   "outputs": [
    {
     "name": "stderr",
     "output_type": "stream",
     "text": [
      "Warning message in Ops.factor(cats$weight, cats$coat):\n",
      "“‘+’ not meaningful for factors”"
     ]
    },
    {
     "data": {
      "text/html": [
       "<ol class=list-inline>\n",
       "\t<li>NA</li>\n",
       "\t<li>NA</li>\n",
       "\t<li>NA</li>\n",
       "</ol>\n"
      ],
      "text/latex": [
       "\\begin{enumerate*}\n",
       "\\item NA\n",
       "\\item NA\n",
       "\\item NA\n",
       "\\end{enumerate*}\n"
      ],
      "text/markdown": [
       "1. NA\n",
       "2. NA\n",
       "3. NA\n",
       "\n",
       "\n"
      ],
      "text/plain": [
       "[1] NA NA NA"
      ]
     },
     "metadata": {},
     "output_type": "display_data"
    }
   ],
   "source": [
    "cats$weight + cats$coat"
   ]
  },
  {
   "cell_type": "markdown",
   "metadata": {},
   "source": [
    "* We get a warning message\n",
    "\n",
    "### understanding what happned here is key to successfully analyzing data in R"
   ]
  },
  {
   "cell_type": "markdown",
   "metadata": {},
   "source": [
    "# Data Types"
   ]
  },
  {
   "cell_type": "markdown",
   "metadata": {},
   "source": [
    "The last command we ran returned an error because\n",
    "* 2.1 + \"black\" is nonsense\n",
    "*  If you guess this is the reason, you are right\n",
    "* you have some intuition for an important concept in programming called\n",
    "            data types\n",
    "* for exxample we can ask what type of data something is:"
   ]
  },
  {
   "cell_type": "code",
   "execution_count": 9,
   "metadata": {
    "collapsed": false
   },
   "outputs": [
    {
     "data": {
      "text/html": [
       "'double'"
      ],
      "text/latex": [
       "'double'"
      ],
      "text/markdown": [
       "'double'"
      ],
      "text/plain": [
       "[1] \"double\""
      ]
     },
     "metadata": {},
     "output_type": "display_data"
    }
   ],
   "source": [
    "typeof(cats$weight)"
   ]
  },
  {
   "cell_type": "markdown",
   "metadata": {},
   "source": [
    "### There are 5 main data types:\n",
    "* double\n",
    "* integer\n",
    "* complex\n",
    "* logical\n",
    "* character\n",
    "\n",
    "Here are a few more examples of checking the data type:"
   ]
  },
  {
   "cell_type": "code",
   "execution_count": 10,
   "metadata": {
    "collapsed": false
   },
   "outputs": [
    {
     "data": {
      "text/html": [
       "'integer'"
      ],
      "text/latex": [
       "'integer'"
      ],
      "text/markdown": [
       "'integer'"
      ],
      "text/plain": [
       "[1] \"integer\""
      ]
     },
     "metadata": {},
     "output_type": "display_data"
    }
   ],
   "source": [
    "typeof(1L)"
   ]
  },
  {
   "cell_type": "code",
   "execution_count": 12,
   "metadata": {
    "collapsed": false
   },
   "outputs": [
    {
     "data": {
      "text/html": [
       "'complex'"
      ],
      "text/latex": [
       "'complex'"
      ],
      "text/markdown": [
       "'complex'"
      ],
      "text/plain": [
       "[1] \"complex\""
      ]
     },
     "metadata": {},
     "output_type": "display_data"
    }
   ],
   "source": [
    "typeof(1+1i)"
   ]
  },
  {
   "cell_type": "code",
   "execution_count": 13,
   "metadata": {
    "collapsed": false
   },
   "outputs": [
    {
     "data": {
      "text/html": [
       "'logical'"
      ],
      "text/latex": [
       "'logical'"
      ],
      "text/markdown": [
       "'logical'"
      ],
      "text/plain": [
       "[1] \"logical\""
      ]
     },
     "metadata": {},
     "output_type": "display_data"
    }
   ],
   "source": [
    "typeof(TRUE)"
   ]
  },
  {
   "cell_type": "code",
   "execution_count": 14,
   "metadata": {
    "collapsed": false
   },
   "outputs": [
    {
     "data": {
      "text/html": [
       "'character'"
      ],
      "text/latex": [
       "'character'"
      ],
      "text/markdown": [
       "'character'"
      ],
      "text/plain": [
       "[1] \"character\""
      ]
     },
     "metadata": {},
     "output_type": "display_data"
    }
   ],
   "source": [
    "typeof('banana')"
   ]
  },
  {
   "cell_type": "markdown",
   "metadata": {},
   "source": [
    "*  Note the L suffix to insist that a number is an integer. \n",
    "* No matter how complicated our analyses become, all data in R is interpreted as one of these basic data types.\n",
    "\n",
    "For the next example:\n",
    "* a user has added details fo another cat.\n",
    "* this information is in the file data/feline-data_v2.csv\n",
    "\n"
   ]
  },
  {
   "cell_type": "markdown",
   "metadata": {},
   "source": [
    "### create feline-data_v2.csv text file in RStudio \n",
    "* in file browser view feline-data.csv text file\n",
    "* in menu select text file\n",
    "* copy and paste data from feline-data.csv to new file\n",
    "* save new file as feline-data_v2.csv\n",
    "\n",
    "Load the new cats data like before, and check what type of data we find in the weight column:\n",
    "\n"
   ]
  },
  {
   "cell_type": "code",
   "execution_count": 15,
   "metadata": {
    "collapsed": false
   },
   "outputs": [
    {
     "data": {
      "text/html": [
       "'integer'"
      ],
      "text/latex": [
       "'integer'"
      ],
      "text/markdown": [
       "'integer'"
      ],
      "text/plain": [
       "[1] \"integer\""
      ]
     },
     "metadata": {},
     "output_type": "display_data"
    }
   ],
   "source": [
    "cats  <- read.csv(file=\"~/Desktop/gps_r/feline-data_v2.csv\")\n",
    "typeof(cats$weight)"
   ]
  },
  {
   "cell_type": "markdown",
   "metadata": {},
   "source": [
    "* Oh no, our weights aren’t the double type anymore! \n",
    "\n",
    "* If we try to do the same math we did on them before, we run into trouble:\n"
   ]
  },
  {
   "cell_type": "code",
   "execution_count": 16,
   "metadata": {
    "collapsed": false
   },
   "outputs": [
    {
     "name": "stderr",
     "output_type": "stream",
     "text": [
      "Warning message in Ops.factor(cats$weight, 2):\n",
      "“‘+’ not meaningful for factors”"
     ]
    },
    {
     "data": {
      "text/html": [
       "<ol class=list-inline>\n",
       "\t<li>NA</li>\n",
       "\t<li>NA</li>\n",
       "\t<li>NA</li>\n",
       "\t<li>NA</li>\n",
       "</ol>\n"
      ],
      "text/latex": [
       "\\begin{enumerate*}\n",
       "\\item NA\n",
       "\\item NA\n",
       "\\item NA\n",
       "\\item NA\n",
       "\\end{enumerate*}\n"
      ],
      "text/markdown": [
       "1. NA\n",
       "2. NA\n",
       "3. NA\n",
       "4. NA\n",
       "\n",
       "\n"
      ],
      "text/plain": [
       "[1] NA NA NA NA"
      ]
     },
     "metadata": {},
     "output_type": "display_data"
    }
   ],
   "source": [
    "cats$weight + 2"
   ]
  },
  {
   "cell_type": "markdown",
   "metadata": {},
   "source": [
    "### what happened?\n",
    "\n",
    "* R reads a csv into a table, it insists that everything in a column be the same basic type\n",
    "\n",
    "* if it can’t understand everything in the column as a double, then nobody in the column gets to be a double\n",
    "\n",
    "* the table that R loaded our cats data into is called a data.frame and our first example of something called a data structure\n",
    "\n",
    "* a data structure is a structure that R knows how to build out of basic data types.\n",
    "\n",
    "* we can see that it is a data.frame by calling the class function on it:"
   ]
  },
  {
   "cell_type": "code",
   "execution_count": 17,
   "metadata": {
    "collapsed": false
   },
   "outputs": [
    {
     "data": {
      "text/html": [
       "'data.frame'"
      ],
      "text/latex": [
       "'data.frame'"
      ],
      "text/markdown": [
       "'data.frame'"
      ],
      "text/plain": [
       "[1] \"data.frame\""
      ]
     },
     "metadata": {},
     "output_type": "display_data"
    }
   ],
   "source": [
    "class(cats)"
   ]
  },
  {
   "cell_type": "markdown",
   "metadata": {},
   "source": [
    "Now, in order to successfully use our data in R, we need to understand what the basic data structures are, and how they behave. \n",
    "\n",
    "For now, let’s remove that extra line from our cats data and reload it, while we investigate this behavior further:"
   ]
  },
  {
   "cell_type": "markdown",
   "metadata": {},
   "source": [
    "in RStudio reload the feline-data.csv"
   ]
  },
  {
   "cell_type": "code",
   "execution_count": 18,
   "metadata": {
    "collapsed": true
   },
   "outputs": [],
   "source": [
    "cats  <- read.csv(file=\"~/Desktop/gps_r/feline-data.csv\")"
   ]
  },
  {
   "cell_type": "markdown",
   "metadata": {},
   "source": [
    "# Vectors and Type Coercion"
   ]
  },
  {
   "cell_type": "markdown",
   "metadata": {},
   "source": [
    "To better understand this behavior, let’s meet another of the data structures: the vector."
   ]
  },
  {
   "cell_type": "code",
   "execution_count": 19,
   "metadata": {
    "collapsed": false
   },
   "outputs": [
    {
     "data": {
      "text/html": [
       "<ol class=list-inline>\n",
       "\t<li>FALSE</li>\n",
       "\t<li>FALSE</li>\n",
       "\t<li>FALSE</li>\n",
       "</ol>\n"
      ],
      "text/latex": [
       "\\begin{enumerate*}\n",
       "\\item FALSE\n",
       "\\item FALSE\n",
       "\\item FALSE\n",
       "\\end{enumerate*}\n"
      ],
      "text/markdown": [
       "1. FALSE\n",
       "2. FALSE\n",
       "3. FALSE\n",
       "\n",
       "\n"
      ],
      "text/plain": [
       "[1] FALSE FALSE FALSE"
      ]
     },
     "metadata": {},
     "output_type": "display_data"
    }
   ],
   "source": [
    "my_vector <- vector(length = 3)\n",
    "my_vector"
   ]
  },
  {
   "cell_type": "markdown",
   "metadata": {},
   "source": [
    "A vector in R is essentially an ordered list of things, with the special condition:\n",
    "* that everything in the vector must be the same basic data type. \n",
    "\n",
    "* If you don’t choose the datatype, it’ll default to logical; or, you can declare an empty vector of whatever type you like."
   ]
  },
  {
   "cell_type": "code",
   "execution_count": 20,
   "metadata": {
    "collapsed": false
   },
   "outputs": [
    {
     "data": {
      "text/html": [
       "<ol class=list-inline>\n",
       "\t<li>''</li>\n",
       "\t<li>''</li>\n",
       "\t<li>''</li>\n",
       "</ol>\n"
      ],
      "text/latex": [
       "\\begin{enumerate*}\n",
       "\\item ''\n",
       "\\item ''\n",
       "\\item ''\n",
       "\\end{enumerate*}\n"
      ],
      "text/markdown": [
       "1. ''\n",
       "2. ''\n",
       "3. ''\n",
       "\n",
       "\n"
      ],
      "text/plain": [
       "[1] \"\" \"\" \"\""
      ]
     },
     "metadata": {},
     "output_type": "display_data"
    }
   ],
   "source": [
    "another_vector <- vector(mode='character', length=3)\n",
    "another_vector"
   ]
  },
  {
   "cell_type": "markdown",
   "metadata": {},
   "source": [
    "You can check if something is a vector:"
   ]
  },
  {
   "cell_type": "code",
   "execution_count": 22,
   "metadata": {
    "collapsed": false
   },
   "outputs": [
    {
     "name": "stdout",
     "output_type": "stream",
     "text": [
      " chr [1:3] \"\" \"\" \"\"\n"
     ]
    }
   ],
   "source": [
    "str(another_vector)"
   ]
  },
  {
   "cell_type": "markdown",
   "metadata": {},
   "source": [
    "The cryptic output from this command indicates the basic data type found in this vector - \n",
    "* in this case chr, character; \n",
    "* an indication of the number of things in the vector - actually, the indexes of the vector, in this case [1:3]; \n",
    "* and a few examples of what’s actually in the vector - in this case empty character strings. \n",
    "\n",
    "If we similarly do:"
   ]
  },
  {
   "cell_type": "code",
   "execution_count": 23,
   "metadata": {
    "collapsed": false
   },
   "outputs": [
    {
     "name": "stdout",
     "output_type": "stream",
     "text": [
      " num [1:3] 2.1 5 3.2\n"
     ]
    }
   ],
   "source": [
    "str(cats$weight)"
   ]
  },
  {
   "cell_type": "markdown",
   "metadata": {},
   "source": [
    "we see that that’s a vector, too - the columns of data we load into R data.frames are all vectors, \n",
    "\n",
    "* and that’s the root of why R forces everything in a column to be the same basic data type."
   ]
  },
  {
   "cell_type": "markdown",
   "metadata": {},
   "source": [
    "## Discussion 1"
   ]
  },
  {
   "cell_type": "markdown",
   "metadata": {},
   "source": [
    "### Why is R so opinionated about what we put in our columns of data? How does this help us?"
   ]
  },
  {
   "cell_type": "markdown",
   "metadata": {},
   "source": [
    "#### By keeping everything in a column the same, we allow ourselves to make simple assumptions about our data; \n",
    "\n",
    "* if you can interpret one entry in the column as a number, then you can interpret all of them as numbers, so we don’t have to check every time.\n",
    "\n",
    "* This consistency, like consistently using the same separator in our data files, is what people mean when they talk about clean data; in the long run, strict consistency goes a long way to making our lives easier in R"
   ]
  },
  {
   "cell_type": "markdown",
   "metadata": {},
   "source": [
    "You can also make vectors with explicit contents with the combine function:"
   ]
  },
  {
   "cell_type": "code",
   "execution_count": null,
   "metadata": {
    "collapsed": true
   },
   "outputs": [],
   "source": []
  },
  {
   "cell_type": "code",
   "execution_count": null,
   "metadata": {
    "collapsed": true
   },
   "outputs": [],
   "source": []
  },
  {
   "cell_type": "code",
   "execution_count": null,
   "metadata": {
    "collapsed": true
   },
   "outputs": [],
   "source": []
  },
  {
   "cell_type": "code",
   "execution_count": null,
   "metadata": {
    "collapsed": true
   },
   "outputs": [],
   "source": []
  },
  {
   "cell_type": "code",
   "execution_count": null,
   "metadata": {
    "collapsed": true
   },
   "outputs": [],
   "source": []
  },
  {
   "cell_type": "code",
   "execution_count": null,
   "metadata": {
    "collapsed": true
   },
   "outputs": [],
   "source": []
  },
  {
   "cell_type": "code",
   "execution_count": null,
   "metadata": {
    "collapsed": true
   },
   "outputs": [],
   "source": []
  },
  {
   "cell_type": "code",
   "execution_count": null,
   "metadata": {
    "collapsed": true
   },
   "outputs": [],
   "source": []
  },
  {
   "cell_type": "code",
   "execution_count": null,
   "metadata": {
    "collapsed": true
   },
   "outputs": [],
   "source": []
  },
  {
   "cell_type": "code",
   "execution_count": null,
   "metadata": {
    "collapsed": true
   },
   "outputs": [],
   "source": []
  },
  {
   "cell_type": "code",
   "execution_count": null,
   "metadata": {
    "collapsed": true
   },
   "outputs": [],
   "source": []
  },
  {
   "cell_type": "code",
   "execution_count": null,
   "metadata": {
    "collapsed": true
   },
   "outputs": [],
   "source": []
  },
  {
   "cell_type": "code",
   "execution_count": null,
   "metadata": {
    "collapsed": true
   },
   "outputs": [],
   "source": []
  },
  {
   "cell_type": "code",
   "execution_count": null,
   "metadata": {
    "collapsed": true
   },
   "outputs": [],
   "source": []
  },
  {
   "cell_type": "code",
   "execution_count": null,
   "metadata": {
    "collapsed": true
   },
   "outputs": [],
   "source": []
  },
  {
   "cell_type": "code",
   "execution_count": null,
   "metadata": {
    "collapsed": true
   },
   "outputs": [],
   "source": []
  },
  {
   "cell_type": "code",
   "execution_count": null,
   "metadata": {
    "collapsed": true
   },
   "outputs": [],
   "source": []
  },
  {
   "cell_type": "code",
   "execution_count": null,
   "metadata": {
    "collapsed": true
   },
   "outputs": [],
   "source": []
  },
  {
   "cell_type": "code",
   "execution_count": null,
   "metadata": {
    "collapsed": true
   },
   "outputs": [],
   "source": []
  }
 ],
 "metadata": {
  "kernelspec": {
   "display_name": "R",
   "language": "R",
   "name": "ir"
  },
  "language_info": {
   "codemirror_mode": "r",
   "file_extension": ".r",
   "mimetype": "text/x-r-source",
   "name": "R",
   "pygments_lexer": "r",
   "version": "3.3.1"
  }
 },
 "nbformat": 4,
 "nbformat_minor": 0
}
